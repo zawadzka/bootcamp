{
 "cells": [
  {
   "cell_type": "code",
   "execution_count": 1,
   "metadata": {
    "collapsed": false
   },
   "outputs": [],
   "source": [
    "#import pymongo"
   ]
  },
  {
   "cell_type": "code",
   "execution_count": 1,
   "metadata": {
    "collapsed": true
   },
   "outputs": [],
   "source": [
    "import pyMorfologik\n",
    "from pyMorfologik import Morfologik\n",
    "from pyMorfologik.parsing import ListParser"
   ]
  },
  {
   "cell_type": "code",
   "execution_count": null,
   "metadata": {
    "collapsed": false
   },
   "outputs": [],
   "source": []
  },
  {
   "cell_type": "code",
   "execution_count": 2,
   "metadata": {
    "collapsed": false
   },
   "outputs": [],
   "source": [
    "import numpy as np\n",
    "import pandas as pd\n",
    "import nltk\n",
    "import re\n",
    "import codecs\n",
    "from copy import deepcopy\n",
    "from sklearn import feature_extraction\n",
    "#import mpld3"
   ]
  },
  {
   "cell_type": "code",
   "execution_count": 3,
   "metadata": {
    "collapsed": false
   },
   "outputs": [],
   "source": [
    "scraping = pd.read_csv('dane.csv')\n",
    "#ramka danych z treścią w pierwszej kolumnie i adresami w drugiej"
   ]
  },
  {
   "cell_type": "code",
   "execution_count": 4,
   "metadata": {
    "collapsed": false,
    "scrolled": true
   },
   "outputs": [
    {
     "data": {
      "text/plain": [
       "pandas.core.series.Series"
      ]
     },
     "execution_count": 4,
     "metadata": {},
     "output_type": "execute_result"
    }
   ],
   "source": [
    "documents = scraping['text']\n",
    "type(documents)"
   ]
  },
  {
   "cell_type": "code",
   "execution_count": null,
   "metadata": {
    "collapsed": false
   },
   "outputs": [],
   "source": []
  },
  {
   "cell_type": "code",
   "execution_count": 5,
   "metadata": {
    "collapsed": false
   },
   "outputs": [],
   "source": [
    "#text after an author's name is not important for further analysis. Regular expression below should remove it. \n",
    "#It must be done before removing end of line's marks (/n)  \n",
    "import re\n",
    "re.compile('[a-zA-Z]',  re.UNICODE) #compiling regex for non-english characters\n",
    "#for author's description within a domain's name\n",
    "articles = [re.sub(\"\\\\n+_?[A-Z][a-z]+\\s[A-Z][a-z]+\\s*\\\\n?[A-Za-z\\s]+\\.pl.*(\\\\n.*)*\", \" \", str(a)) for a in documents]\n"
   ]
  },
  {
   "cell_type": "raw",
   "metadata": {},
   "source": [
    "Cleaning data requires keeping control. Simpliest way could be counting words before and after cutting."
   ]
  },
  {
   "cell_type": "code",
   "execution_count": 6,
   "metadata": {
    "collapsed": false,
    "scrolled": true
   },
   "outputs": [
    {
     "name": "stdout",
     "output_type": "stream",
     "text": [
      "Zbiór zmniejszył się o: 228563 słów. Wynosi: 0.91073 początkowego \n"
     ]
    }
   ],
   "source": [
    "def words_num(set):\n",
    "    words=0\n",
    "    for a in set:\n",
    "        words += len(a)\n",
    "    return words\n",
    "def set_reduction(set1,set2):\n",
    "    \n",
    "    return print('Zbiór zmniejszył się o: {} słów. Wynosi: {:.5f} początkowego '\n",
    "                 .format((words_num(set1) - words_num(set2)), (words_num(set2)/words_num(set1)))) \n",
    "set_reduction(documents, articles)"
   ]
  },
  {
   "cell_type": "code",
   "execution_count": 7,
   "metadata": {
    "collapsed": false
   },
   "outputs": [],
   "source": [
    "#for author's description without a domain name \n",
    "articles = [re.sub(\"\\\\n+_?[A-Z]\\w+\\s[A-Z]\\.?\\s[A-Z]\\w+\\s*\\\\n\\\\n.*\", \" \", str(a)) for a in articles]\n"
   ]
  },
  {
   "cell_type": "code",
   "execution_count": 8,
   "metadata": {
    "collapsed": false
   },
   "outputs": [
    {
     "name": "stdout",
     "output_type": "stream",
     "text": [
      "Zbiór zmniejszył się o: 228669 słów. Wynosi: 0.91069 początkowego \n"
     ]
    }
   ],
   "source": [
    "set_reduction(documents, articles)"
   ]
  },
  {
   "cell_type": "code",
   "execution_count": 9,
   "metadata": {
    "collapsed": true
   },
   "outputs": [],
   "source": [
    "#removing local and global urls \n",
    "articles = [re.sub(\"/[a-zA-Z0-9_\\-\\./]+|htt[^\\s]*\", \" \" , str(a)) for a in articles ]"
   ]
  },
  {
   "cell_type": "code",
   "execution_count": 10,
   "metadata": {
    "collapsed": false
   },
   "outputs": [
    {
     "name": "stdout",
     "output_type": "stream",
     "text": [
      "Zbiór zmniejszył się o: 255920 słów. Wynosi: 0.90005 początkowego \n"
     ]
    }
   ],
   "source": [
    "set_reduction(documents, articles)"
   ]
  },
  {
   "cell_type": "code",
   "execution_count": 11,
   "metadata": {
    "collapsed": false,
    "scrolled": true
   },
   "outputs": [],
   "source": [
    "#clearing articles from special characters and punctualtions   \n",
    "\n",
    "articles = [re.sub(\"\\\\n\", \" \", str(a)) for a in articles]\n",
    "articles = [re.sub(\"[\\*|\\.|,|:|;|\\?|!|#|\\(|\\)|-]\", \" \", str(a)) for a in articles]\n"
   ]
  },
  {
   "cell_type": "code",
   "execution_count": 12,
   "metadata": {
    "collapsed": false
   },
   "outputs": [
    {
     "name": "stdout",
     "output_type": "stream",
     "text": [
      "Zbiór zmniejszył się o: 255920 słów. Wynosi: 0.90005 początkowego \n"
     ]
    }
   ],
   "source": [
    "set_reduction(documents, articles)"
   ]
  },
  {
   "cell_type": "code",
   "execution_count": 13,
   "metadata": {
    "collapsed": false
   },
   "outputs": [],
   "source": [
    "#for articles without author deleting the last part of the article containing dates, comments and autopromotional texts\n",
    "\n",
    "articles2 = [re.sub(\"data utworzenia.*|Komentarze.*\", \"\", str(a)) for a in articles]"
   ]
  },
  {
   "cell_type": "code",
   "execution_count": 14,
   "metadata": {
    "collapsed": false
   },
   "outputs": [
    {
     "name": "stdout",
     "output_type": "stream",
     "text": [
      "Zbiór zmniejszył się o: 660910 słów. Wynosi: 0.74188 początkowego \n"
     ]
    }
   ],
   "source": [
    "set_reduction(documents, articles2)"
   ]
  },
  {
   "cell_type": "raw",
   "metadata": {},
   "source": [
    "This reduction looks bigger. Let's look at the results of the cut!"
   ]
  },
  {
   "cell_type": "code",
   "execution_count": 15,
   "metadata": {
    "collapsed": false
   },
   "outputs": [
    {
     "data": {
      "text/plain": [
       "['Komentarze  Brak komentarzy  Dodaj swój komentarz  Autor   Temat   Treść komentarza    []         Jak obniżyć podatek za 2017 rok       PIT 2017   aktualne ulgi i terminy                                Pomoc on line      [e doradca PIT pl]       Jeżeli   masz problemy z fiskusem     możesz także skorzystać   z pomocy profesjonalnego doradcy podatkowego   \\\\  zadając pytanie lub przedstawiając swoje wątpliwości  www e doradca PIT pl  Jeżeli trafiłeś tu w celu rozliczenia Twojego PITa za ostatni rok  zapraszamy także na aktualny bezpłatny poradnik w zakresie rozliczeń za rok 2007   Twoje pytanie  ',\n",
       " 'Komentarze  Brak komentarzy  Dodaj swój komentarz  Autor   Temat   Treść komentarza    []         Jak obniżyć podatek za 2017 rok       PIT 2017   aktualne ulgi i terminy                         ',\n",
       " 'Komentarze    Autor    aneta _ 12 03 2018 21 32 18 _    Temat    ulga  syn uzyskał w 2017 przychód 5091  po odliczeniu kosztów i składek zus wychodzi dochodu 3058 02zł czy przysługuje jeszcze ulga      Autor    Ks _ 11 03 2018 22 31 20 _    Temat    Ulga prorodzinna  Córka uzyskała przychód 3529 50 Dochód 2823 60 Czy mogę skorzystać z ulgi prorodzinnej       pokaż całą treść  Córka uzyskała przychód 3529 50 Dochód 2823 60 Czy mogę skorzystać z ulgi prorodzinnej    zwiń    Autor    księgowa _ 05 03 2018 11 26 19 _    Temat    ulga prorodzinna  @Ada  @Monika Rozliczenie jako samotny rodzic przysługuje tylko wtedy  jeśli dziecko nie przekroczyło kwoty 3089 zł  Więc w takim przypadku  rozliczają się Panie indywidualnie     Autor    Ada _ 27 02 2018 18 39 41 _    Temat    Matka samotnie wychowująca pełnoletnie dzieci  Mam pytanie  Mam dwoje dzieci pełnoletnich  Syn lat 19 uczy się w Liceum i pracuje w weekendy oraz córka lat 21 studiuje dziennie i pracuje w wekendy     pokaż całą treść  Mam pytanie  Mam dwoje dzieci pełnoletnich  Syn lat 19 uczy się w Liceum i pracuje w weekendy oraz córka lat 21 studiuje dziennie i pracuje w wekendy  Oboje przekroczyli dochód 3089  Czy mogę z dzieckiem rozliczyć się jako samotnie wychowujący rodzic  Rozumiem  że ulga mi nie przysługuje  Dodam  że mam przekroczony pierwszy próg podatkowy  zwiń    Autor    Monika _ 25 02 2018 19 44 44 _    Temat    Ulga na dziecko  Co jeśli matka sama wychowuje dziecko  a dziecko jest pełnoletnie  21 lat uzyskało całoroczny zarobek wyższy niż 3089 zł  to ulga na dziecko się nie przysługuje  Czy    pokaż całą treść  Co jeśli matka sama wychowuje dziecko  a dziecko jest pełnoletnie  21 lat uzyskało całoroczny zarobek wyższy niż 3089 zł  to ulga na dziecko się nie przysługuje  Czy matka może się rozliczyć jako samotnie wychowująca dziecko zwiń    Autor    ala _ 23 02 2018 20 32 15 _    Temat    prorodzinna  Super     student najlepiej gdyby zarobił 250zl na miesiąc to rodzic nie straci ulgi  W przeciwnym razie oprócz ulgi straci możliwość odliczenia ulgi na drugie dziecko  bo    pokaż całą treść  Super     student najlepiej gdyby zarobił 250zl na miesiąc to rodzic nie straci ulgi  W przeciwnym razie oprócz ulgi straci możliwość odliczenia ulgi na drugie dziecko  bo to jest jako pierwsze i decyduje tu juz dochód rodziców    Koszmar jak w 500+  Normalnie pracujący nie mają szans w naszym krajuzwiń    Autor    nycia _ 20 02 2018 20 33 34 _    Temat    ulga prorodzinna  Dochód do ulgi liczymy bez uwzględniania składek społecznych  Tylko przychód minus koszty uzyskania przychodu     Autor    Basia _ 20 02 2018 13 43 30 _    Temat    prawo do ulgi prorodzinnej za 2017  Dochodem jest kwota przychodu pomniejszona o kup i  jeśli są  składki na ubezpieczenie społeczne  Otrzymana kwota jest podstawa do obliczenia podatku i jeśli kwota ta jest mniejsza    pokaż całą treść  Dochodem jest kwota przychodu pomniejszona o kup i  jeśli są  składki na ubezpieczenie społeczne  Otrzymana kwota jest podstawa do obliczenia podatku i jeśli kwota ta jest mniejsza lub równa 3 091 wówczas rodzic nie traci ulgi na uczace się dziecko do 25 lat zwiń    Autor    bodzio1973 _ 11 02 2018 14 50 24 _    Temat    ulga prorodzinna  Jeśli jest to przychód  brutto  to oznacza że z tej kwoty trzeba odjąć podatek 18% 573 3 zł  daje to dochód  netto  2611 7 zł i nie przekracza 3089    pokaż całą treść  Jeśli jest to przychód  brutto  to oznacza że z tej kwoty trzeba odjąć podatek 18% 573 3 zł  daje to dochód  netto  2611 7 zł i nie przekracza 3089 zł  Ulga się należy   zwiń    Autor    bodzio1973 _ 11 02 2018 14 41 59 _    Temat    ulga prorodzinna  Jeśli jest to przychód  brutto  to oznacza że z tej kwoty trzeba odjąć podatek 18% 573 3 zł  daje to dochód  netto  2611 7 zł i nie przekracza 3089    pokaż całą treść  Jeśli jest to przychód  brutto  to oznacza że z tej kwoty trzeba odjąć podatek 18% 573 3 zł  daje to dochód  netto  2611 7 zł i nie przekracza 3089 zł  Ulga się należy   zwiń    Autor    basia _ 05 02 2018 20 53 30 _    Temat    do Roberta  dorosle dzieci czyli pelnoletnie    pokaż całą treść  dorosle dzieci czyli pelnoletnie zwiń    Autor    melcia _ 23 01 2018 18 02 06 _    Temat    kwota 3089 zł  kwota 3089 to jest P K=D    Autor    Merry _ 08 01 2018 19 54 41 _    Temat    Odpowiedz  Jest napisane dochód     przychód jest brutto  Dochód pomniejszone o koszty  skladki    Autor    Robert _ 29 12 2017 17 40 16 _    Temat    pytanie czy przychód to dochód   Pytanie  czyli jeśli moja córka w wieku 17 lat uzyskała przychód w 2017r  w wysokości 3185zł  nie należy mi się ulga prorodzinna na córkę     Autor    kasia _ 18 12 2017 13 14 02 _    Temat    dochód to brutto  kwota brutto    Autor    michał _ 16 12 2017 21 58 36 _    Temat    pytanie  Ale ta kwota  3089  to jest  brutto czy netto    Pokaż wszystkie komentarze Dodaj swój komentarz  Autor   Temat   Treść komentarza    []         Jak obniżyć podatek za 2017 rok       PIT 2017   aktualne ulgi i terminy                         ',\n",
       " 'data utworzenia  28 12 2017     data modyfikacji  12 01 2018  POBIERZ DARMOWY PROGRAM do rozliczenia PIT 2017  e pity 2017   POBIERZ lub   uruchom online teraz       Komentarze    Autor    producent programu _ 31 01 2018 09 07 43 _    Temat    do KaMa  Nie  nie trzeba uiszczać żadnych opłat  Opłata jest tylko w przypadku  gdy wychodzi podatek  a podatnik nie chce przekazać 1%     Autor    KaMa _ 31 01 2018 07 53 59 _    Temat    Darmowy program  W treści daczytałam  że program jest darmowy dla dowolnej liczby pitów pod warunkiem że przekaże się 1%podatku  Co jeśli z wliczeń nie wychodzi podatek i nie ma co    pokaż całą treść  W treści daczytałam  że program jest darmowy dla dowolnej liczby pitów pod warunkiem że przekaże się 1%podatku  Co jeśli z wliczeń nie wychodzi podatek i nie ma co przekazać   Czy trzeba wykupić licencję zwiń    Autor    Marcello _ 26 01 2018 11 36 32 _    Temat    smuteczeq  źle mi policzyło       Autor    producent programu _ 25 01 2018 12 04 40 _    Temat    do KaMa  Nie  nie trzeba uiszczać żadnych opłat  Opłata jest tylko w przypadku  gdy wychodzi podatek  a podatnik nie chce przekazać 1%     pokaż całą treść  Nie  nie trzeba uiszczać żadnych opłat  Opłata jest tylko w przypadku  gdy wychodzi podatek  a podatnik nie chce przekazać 1%  zwiń    Autor    KaMa _ 25 01 2018 11 17 23 _    Temat    Darmowy program  W treści daczytałam  że program jest darmowy dla dowolnej liczby pitów pod warunkiem że przekaże się 1%podatku  Co jeśli z wliczeń nie wychodzi podatek i nie ma co    pokaż całą treść  W treści daczytałam  że program jest darmowy dla dowolnej liczby pitów pod warunkiem że przekaże się 1%podatku  Co jeśli z wliczeń nie wychodzi podatek i nie ma co przekazać   Czy trzeba wykupić licencję zwiń    Autor    zawiedziony _ 24 01 2018 12 43 05 _    Temat    Gdzie jest program do PIT z poprzednich lat    Droga redakcjo  A gdzie jest Pit format do którego sie przyzwyczaiłem i fajnie sie na nim liczyło deklaracje  Szkoda  ze musze szukać gdzie indziej    Pokaż wszystkie komentarze Dodaj swój komentarz  Autor   Temat   Treść komentarza    []         Jak obniżyć podatek za 2017 rok       PIT 2017   aktualne ulgi i terminy                         ',\n",
       " 'data utworzenia  08 07 2015     data modyfikacji  03 01 2017  POBIERZ DARMOWY PROGRAM do rozliczenia PIT 2017  e pity 2017   POBIERZ lub   uruchom online teraz       Komentarze    Autor    Ilonka _ 28 04 2016 21 04 15 _    Temat    \\\\         Dziękuję za program i możliwość skorzystania z niego  Zaoszczędziłam na księgowym rozliczając całą rodzinę  Pierwsza deklaracja trochę czasu mnie kosztowała ale kolejne poszły jak z automatu  Łatwy    pokaż całą treść  Dziękuję za program i możliwość skorzystania z niego  Zaoszczędziłam na księgowym rozliczając całą rodzinę  Pierwsza deklaracja trochę czasu mnie kosztowała ale kolejne poszły jak z automatu  Łatwy i prosty program  Aktualne formularze i dużo pitów do wyboru  Super zwiń    Autor    Pirlo _ 28 04 2016 20 25 36 _    Temat         Wypełniłem dziś pit 37 za pomocą tej aplikacji  Miałem pewne obawy co do bezpieczeństwa ale chyba wszsytko jest w porządku  Formularze są aktualne   bo w tym roku    pokaż całą treść  Wypełniłem dziś pit 37 za pomocą tej aplikacji  Miałem pewne obawy co do bezpieczeństwa ale chyba wszsytko jest w porządku  Formularze są aktualne   bo w tym roku była zmiana niektórych punktów i deklaracji tak więc jest to na plus  Dla oszczędności czasu wysłałem pita elektronicznie od razu do US  Przejrzysty panel administracyjny i w miarę intuicyjne wszystkie przyciski  Polecam   zwiń    Autor    Ala _ 28 04 2016 13 42 20 _    Temat    Pit37  Program pobrałam  zainstalowałam  otworzyłam i deklarację wypełniłam  Nie sądziłam  że mi to tak szybko i bezproblemowo pójdzie  W przyszłym roku z pewnością skorzystam ponownie      Autor    Przemo _ 28 04 2016 08 19 25 _    Temat    opinia  Aplikacja nie bez wad ale po przetestowaniu kilku podobnych wypada najlepiej  Daje możliwość wielokrotnej edycji dokumentu  wysyłkę elektronicznie do US oraz wczytuje dane podatników  Do tego czytelny    pokaż całą treść  Aplikacja nie bez wad ale po przetestowaniu kilku podobnych wypada najlepiej  Daje możliwość wielokrotnej edycji dokumentu  wysyłkę elektronicznie do US oraz wczytuje dane podatników  Do tego czytelny interfejs zwiń    Autor    AndrzejW _ 27 04 2016 20 13 28 _    Temat    PIT  Gratuluje tylu pozytywnych komentarzy  Program bardzo pomocny i uzyteczny  Rozliczam się nim od tego roku i mam nadzieję  że w przyszłym też będę miał okazję     pokaż całą treść  Gratuluje tylu pozytywnych komentarzy  Program bardzo pomocny i uzyteczny  Rozliczam się nim od tego roku i mam nadzieję  że w przyszłym też będę miał okazję  zwiń    Autor    teresa _ 27 04 2016 16 18 18 _    Temat    pit 37  dziękuję za program jeżeli uda mi się dokonać rozliczenia będę bardzo zadowolona     pokaż całą treść  dziękuję za program jeżeli uda mi się dokonać rozliczenia będę bardzo zadowolona  zwiń    Autor    Bogdan _ 27 04 2016 11 43 01 _    Temat    Dzięki  Serdeczne dzięki za ten program  Po wczytaniu danych z rejestru wypełnieni całego pita zajęło mi dosłownie 10 minut     pokaż całą treść  Serdeczne dzięki za ten program  Po wczytaniu danych z rejestru wypełnieni całego pita zajęło mi dosłownie 10 minut  zwiń    Autor    Rewelacja _ 27 04 2016 10 02 57 _    Temat    Rewelacja  Super program     Autor    WiWi _ 27 04 2016 08 22 52 _    Temat    Opinia  Przemyślana aplikacja  dopracowana pod każdym względem  W innym kreatorze co chwile miałem błędy  tak  że się nie dało pracować  Tu wszystko działa bez zarzutu     Autor    Gitmajonez _ 26 04 2016 20 28 04 _    Temat    Fporzo  Git majonez programik  W tym roku pierwszy raz się rozliczałem  a że nie lubię nabijać sakwy księgowym sam się rozliczyłem z pomocą waszego programu  Do tego zaoszczędziłem    pokaż całą treść  Git majonez programik  W tym roku pierwszy raz się rozliczałem  a że nie lubię nabijać sakwy księgowym sam się rozliczyłem z pomocą waszego programu  Do tego zaoszczędziłem czas w niebotycznej kolejce na poczcie wysyłając zeznanie za pomocą eDeklaracji  Do zobaczenia za rok jak oczywiście coś zarobię zwiń    Autor    Ja _ 26 04 2016 20 17 08 _    Temat    Rozliczenie  Widzę  że programy do rozliczania są coraz lepsze  Jest dużo udogodnień w stosunku do poprzedniego roku  W szczególności podoba mi się zaciąganie danych z centrali i możliwość    pokaż całą treść  Widzę  że programy do rozliczania są coraz lepsze  Jest dużo udogodnień w stosunku do poprzedniego roku  W szczególności podoba mi się zaciąganie danych z centrali i możliwość wyboru fundacji na jaką przekazać podatek  Rok temu trzeba było wybrać to co puszczał program  W przyszłym roku pewnie znów sam się rozliczę i zaoszczędzę pare złotych zwiń    Autor    Podatnik81 _ 26 04 2016 08 00 46 _    Temat    OK  Program działa prawidłowo i bez większych problemów da się wszystko zrobić samemu  Pierwszy raz w tym roku korzystałem z moduł PFR i całkiem fajnie działa bo nie    pokaż całą treść  Program działa prawidłowo i bez większych problemów da się wszystko zrobić samemu  Pierwszy raz w tym roku korzystałem z moduł PFR i całkiem fajnie działa bo nie trzeba wpisywać wszystkiego ręcznie  Wcześniej tego nie było  Co do bezpieczeństwa  to wydaje mi się  że skoro program jest rekomendowany przez MF to o wyciek danych nie ma się co martwić zwiń    Autor    Michał _ 25 04 2016 20 35 45 _    Temat    Brak możliwości zapisu pliku na lokalnym dysku     Witam  Program użyłem do wypełnienia i wysłania PIT36   funkcjonalnie wydaje się wszystko w porządku  przynajmniej od strony wypełniania  wyliczania  drukowania etc  Jest jednak jeden  ale za to poważny    pokaż całą treść  Witam  Program użyłem do wypełnienia i wysłania PIT36   funkcjonalnie wydaje się wszystko w porządku  przynajmniej od strony wypełniania  wyliczania  drukowania etc  Jest jednak jeden  ale za to poważny problem  Mianowicie   dlaczego usunięto możliwość zapisu formularzy do LOKALNEGO pliku    Biorąc pod uwagę co w tych plikach jest  tj  dane personalne  które powinny być możliwie bezpieczne  zostawianie jedynej możliwości zapisu poprzez wysyłanie e mailem wydaje się absurdalne  Nikt przy zdrowych zmysłach nie wysyła wszystkich swoich danych osobowych niezaszyfrowanym emailem  który jest pod drodze zapisywany na niewiadomo ilu serwerach  i niewiadomo kto ma do tego dostęp    Funcjonalnie więc program pozostaje w ten sposób BEZ możliwośći zapisu wypełnionych formularzy   przynajmniej dla mnie  i takie podejście do tematu polecam wszystkim innym   Proponuję przywrócić tę funkcjonalność tak by wszystkie dane osobowe były przetwarzane WYŁĄCZNIE w przeglądarce użytkownika  a wysyłane tylko i wyłącznie bezpośrenio do serwerów rządowych  Opcjonalny zapis do pliku powinien być wykonywany przede wszystkim na LOKALNYM dysku  najlepiej WYŁĄCZNIE  ew  wysyłanie emailem powinno być dostępne ale tylko po zaszyfrowaniu przynajmniej sensownym tj  niełatwym do złamania hasłem użytkownika   Nie jest to błaha sprawa  bezpieczeńtwo danyh osobowych w dzisiejszych czasach powinno być priorytetem we wszelkich aplikacjach tego typu  proszę miejcie to na uwadze  Poza tym jak wspominałem wszystko działa b  dobrze  Pozdrawiam  Michał zwiń    Autor    Tomasss _ 25 04 2016 20 31 08 _    Temat    Do Okozwłoki  Liczy się data stempla pocztowego jeśli wysyłasz deklarację tradycyjną pocztą  Niemniej jednak polecam złożyć edeklaracje bezpośrednio w programie jest taka funkcja  z której sam korzystam  Nie ma    pokaż całą treść  Liczy się data stempla pocztowego jeśli wysyłasz deklarację tradycyjną pocztą  Niemniej jednak polecam złożyć edeklaracje bezpośrednio w programie jest taka funkcja  z której sam korzystam  Nie ma żadnej z tym filozofii  Jak masz zwrot podatku to każdy dzień sie liczy  żeby go szybciej dostać  Ogólnie przyjazny formularz bez problemu wypełnione zeznanie wspólnie z żoną zwiń    Autor    Ingigo _ 25 04 2016 20 26 38 _    Temat    PIT  Analizowałem 5 różnych programów do wypełniania pitów  Każdy miał coś w sobie nie tak  Albo uciążliwa instalacja  albo niejasne podpowiedzi albo mało intuicyjny panel administracyjny albo    pokaż całą treść  Analizowałem 5 różnych programów do wypełniania pitów  Każdy miał coś w sobie nie tak  Albo uciążliwa instalacja  albo niejasne podpowiedzi albo mało intuicyjny panel administracyjny albo nie mogłem sam wybrać komu przekazać 1%  W końcu udało mi się dobrnąć do końca tylko w powyższym programie  Parę rzeczy można by poprawić i udoskonalić  bo z 1% to się naszukałem ale mogłem ustawić swój własny  Czego inne programy nie miały  Generalnie jestem zadowolony  A że kończy się termin skłądania wniosków PIT to wysłałem bezpośrednio z programu e deklarację i sprawa końca terminu mnie nie dotyczy  zwiń    Autor    Okozwłoka _ 25 04 2016 12 54 31 _    Temat    Moje rozliczenie  W tym roku sam po raz pierwszy się rozliczałem  formularz do wypełnieni łatwy aczkolwiek trzeba być skupionym i czytać wszystko po dwa razy  Fajnie że mogłem sam    pokaż całą treść  W tym roku sam po raz pierwszy się rozliczałem  formularz do wypełnieni łatwy aczkolwiek trzeba być skupionym i czytać wszystko po dwa razy  Fajnie że mogłem sam wybrać komu dać 1% podatku  Mam tylko małą zagwozdkę  Wysłać pit pocztą polską czy elektronicznie przez mechanizm w skrypcie  Liczy się data wpływu do US zeznania czy data stempla pocztowego  E deklaracja wpływa automatycznie do US zwiń    Autor    ASpodatkowy _ 25 04 2016 12 46 51 _    Temat    Szybko   Rewelacyjny program  pierwszy raz się rozliczam za pomocą takiego programu  Wcześniej nie miałem jakość śmiałości i odwagi  Prosty i intuicyjny  niemniej jednak trzeba trochę uwagi poświęcić na    pokaż całą treść  Rewelacyjny program  pierwszy raz się rozliczam za pomocą takiego programu  Wcześniej nie miałem jakość śmiałości i odwagi  Prosty i intuicyjny  niemniej jednak trzeba trochę uwagi poświęcić na wypełnienie całości  Na szczeście jak są błędy to program wyłapuje nieprawidłowości  Dla przypomnienia drodzy podatnicy proszę o szybkie rozliczanie się  Za tydzień mija termin  zwiń    Autor    Producent programu _ 25 04 2016 11 52 48 _    Temat    do p  Lidia  Szanowna Pani  PIT R jest załącznikiem PIT 11  a kwota z PIT R jest ujęta w samym już PIT 11  a dokładnie w poz 53  Zatem należy tylko     pokaż całą treść  Szanowna Pani  PIT R jest załącznikiem PIT 11  a kwota z PIT R jest ujęta w samym już PIT 11  a dokładnie w poz 53  Zatem należy tylko przepisać poprzez Kreator swój PIT 11 i kwotę z PIT R wskazać w poz 53  Proszę \\\\zwrócić uwagę na opis komórki nr 53 mówiący nam o tym  ze należy w nią wpisać kwotę wynikającą z PIT R  Pozdrawiamy  zespół PIT Formatzwiń    Autor    Producent programu _ 25 04 2016 11 17 21 _    Temat    do p  Lidia  Szanowna Pani  PIT R jest załącznikiem PIT 11  a kwota z PIT R jest ujęta w samym już PIT 11  a dokładnie w poz 53  Zatem należy tylko     pokaż całą treść  Szanowna Pani  PIT R jest załącznikiem PIT 11  a kwota z PIT R jest ujęta w samym już PIT 11  a dokładnie w poz 53  Zatem należy tylko przepisać poprzez Kreator swój PIT 11 i kwotę z PIT R wskazać w poz 53  Proszę \\\\zwrócić uwagę na opis komórki nr 53 mówiący nam o tym  ze należy w nią wpisać kwotę wynikającą z PIT R  Pozdrawiamy  zespół PIT Formatzwiń    Autor    Producent programu _ 25 04 2016 11 16 00 _    Temat    do p  Lidia  Szanowna Pani  PIT R jest załącznikiem PIT 11  a kwota z PIT R jest ujęta w samym już PIT 11  a dokładnie w poz 53  Zatem należy tylko     pokaż całą treść  Szanowna Pani  PIT R jest załącznikiem PIT 11  a kwota z PIT R jest ujęta w samym już PIT 11  a dokładnie w poz 53  Zatem należy tylko przepisać poprzez Kreator swój PIT 11 i kwotę z PIT R wskazać w poz 53  Proszę \\\\zwrócić uwagę na opis komórki nr 53 mówiący nam o tym  ze należy w nią wpisać kwotę wynikającą z PIT R  Pozdrawiamy  zespół PIT Formatzwiń    Autor    Zbyszek _ 25 04 2016 10 42 48 _    Temat    fajna robota  ja w sumie to przywiązałem się do PIT Format  Solidny program  z każdym rokiem rozwijany i ulepszany     Autor    Krystyna z Tych _ 25 04 2016 10 40 54 _    Temat    jak dla mnie program nr 1  Program jest bardzo dobry  używam go już 3 rok  Wypełnienie zeznania zajmuje w nim średnio 7 min  UPO natychmiast do pobrania  bardzo intuicyjny i prosty w obsłudze     pokaż całą treść  Program jest bardzo dobry  używam go już 3 rok  Wypełnienie zeznania zajmuje w nim średnio 7 min  UPO natychmiast do pobrania  bardzo intuicyjny i prosty w obsłudze  Jak dla mnie numer jeden zwiń    Autor    Producent programu _ 25 04 2016 10 37 03 _    Temat    do p  Krzych  Szanowny Panie  z pewnoscią wpisał Pan do programu dane w niewłaściwe pola  W celu wyjaśnienia wątpliwości proszę o kontakt z naszym BOK  pit  pomoc@formsoft pl bądź pod nr tel    pokaż całą treść  Szanowny Panie  z pewnoscią wpisał Pan do programu dane w niewłaściwe pola  W celu wyjaśnienia wątpliwości proszę o kontakt z naszym BOK  pit  pomoc@formsoft pl bądź pod nr tel 76 854 79 58  Na pewno Pani pomożemy   Pozdrawiamy Zespół PIT Formatzwiń    Autor    Producent programu _ 25 04 2016 10 34 25 _    Temat    do p  Hanny  Witam  Pani Hanno  w celu wyjaśnienia wątpliwości proszę o kontakt z naszym BOK  pit pomoc@formsoft pl bądź pod nr tel 76 854 79 58  Na pewno Pani pomożemy   Pozdrawiamy    pokaż całą treść  Witam  Pani Hanno  w celu wyjaśnienia wątpliwości proszę o kontakt z naszym BOK  pit pomoc@formsoft pl bądź pod nr tel 76 854 79 58  Na pewno Pani pomożemy   Pozdrawiamy Zespół PIT Formatzwiń    Autor    Krzych _ 24 04 2016 21 15 51 _    Temat    Błąd   Program chyba źle dodaje pola kosztów uzyskania przychodu w pit 37  Dodałem 2x pity11 i wyszły mi 2 różne wyniki   licząc ręcznie i w programie     Autor    Krzych _ 24 04 2016 21 14 35 _    Temat    Błąd   Program chyba źle dodaje pola kosztów uzyskania przychodu w pit 37  Dodałem 2x pity11 i wyszły mi 2 różne wyniki   licząc ręcznie i w programie     Autor    Zbyszek _ 23 04 2016 12 52 31 _    Temat    Sprostowanie do zawieszania się programu  Program jednak się nie zawiesza przepraszam autora  trzeba po prostu czytać instrukcje   trochę dziwnie to jest zbudowane wszystko  ale działa  mimo wszystko znam inne lepiej napisane    pokaż całą treść  Program jednak się nie zawiesza przepraszam autora  trzeba po prostu czytać instrukcje   trochę dziwnie to jest zbudowane wszystko  ale działa  mimo wszystko znam inne lepiej napisane programy tego typu zwiń    Autor    Zbyszek _ 23 04 2016 11 50 09 _    Temat    Zawieszanie programi i brak możliwości edycji zapisanego formulaża  W windows 8 po zapisaniu nie dokońca wypełnionego formulaża nie można go edytować   dochodzi do momentu w jakim był zapisany i przy kliknięciu dalej automatycznie zamyka    pokaż całą treść  W windows 8 po zapisaniu nie dokońca wypełnionego formulaża nie można go edytować   dochodzi do momentu w jakim był zapisany i przy kliknięciu dalej automatycznie zamyka edytowanie i pokazuje deklaracje zwiń    Autor    HANIA _ 21 04 2016 13 30 41 _    Temat    PIT 37  otrzymałam z ZUS PIT 40A  za pomocą programu złożyłam e deklarację  wykazało mi na koniec jakieś błędy  sprawdziłam kilkakrotnie i nie popełniłam błędu  Jak rozwiązać problem  czy muszę Udać    pokaż całą treść  otrzymałam z ZUS PIT 40A  za pomocą programu złożyłam e deklarację  wykazało mi na koniec jakieś błędy  sprawdziłam kilkakrotnie i nie popełniłam błędu  Jak rozwiązać problem  czy muszę Udać się osobiście do US zwiń    Autor    Lidia _ 20 04 2016 16 09 41 _    Temat    PIT R  Witam  od moich pracodawców  2  otrzymałam dwa PIT 11  od trzeciego PIT R  Gdzie mam uwzględnić dochody z PIT R     pokaż całą treść  Witam  od moich pracodawców  2  otrzymałam dwa PIT 11  od trzeciego PIT R  Gdzie mam uwzględnić dochody z PIT R  zwiń    Autor    Producent programu _ 18 04 2016 12 23 26 _    Temat    do p  Rafales  Witam  Szanowny Panie  PIT B jest załącznikiem do deklaracji pit 36   czyli dla osób prowadzących działalność gospodarczą i NIP należy wpisać już na początku wypełniania swojej    pokaż całą treść  Witam  Szanowny Panie  PIT B jest załącznikiem do deklaracji pit 36   czyli dla osób prowadzących działalność gospodarczą i NIP należy wpisać już na początku wypełniania swojej deklaracji a dokładnie przy wyborze podatnika  Gdyby pojawiły się jakieś niejasności  proszę o kontakt z naszym BOK  pit  pomoc@formsoft pl  Pozdrawiamy  Zespól PIT Formatzwiń    Autor    Producent programu _ 18 04 2016 10 05 19 _    Temat    do p  taste  Szanowny Pani   oczywiscie  że mozna wybrać dowolną OPP  W celu zmiany KRS  proszę koniecznie wejść na kartę 1% podatku   kreator  bądź w dowolnym miejscy   aktywne    pokaż całą treść  Szanowny Pani   oczywiscie  że mozna wybrać dowolną OPP  W celu zmiany KRS  proszę koniecznie wejść na kartę 1% podatku   kreator  bądź w dowolnym miejscy   aktywne deklaracje   wejść do menu Pomoc i tam jest już bezpośrednio na drugim od góry miejscu przycisk   Swobodny wybór OPP  Możemy podesłać prin screen tej lokalizacji  ale w tym celu proszę napisać do nas na adres  pit  pomoc@formsoft pl  Tutaj niestety nie mamy technicznej mozłiwosci na załączanie jakichkolwiek plików  Pozdrawiamy  Zespół PIT Formatzwiń    Autor    taste _ 16 04 2016 17 21 33 _    Temat     %  program fajny i prosty w użyciu ale ja nie potrafię zmienić OPP  z odpowiedzi na wcześniejsze komentarze wiem  że w menu Pomoc powinien być przycisk Swobodny wybór    pokaż całą treść  program fajny i prosty w użyciu ale ja nie potrafię zmienić OPP  z odpowiedzi na wcześniejsze komentarze wiem  że w menu Pomoc powinien być przycisk Swobodny wybór OPP  ale ja takiego nie widzę  W którym miejscu menu Pomoc  które miejsce na liście   ja widzę 9 możliwości zaczynając od poradnik a kończąc na O programie     jest ten wybór zwiń    Autor    rafales _ 15 04 2016 13 15 22 _    Temat    NIP w PIT B  Jak wpisać NIP z DG korzystając z kreatora  Oczywiście chodzi mi o pole w PIT B  które powinno być wypełnione  Za nic nie mogę tego tam wstawić    Autor    Producent programu _ 13 04 2016 15 05 08 _    Temat    do p  Mirosława  Pani Mirosławo  o ile Pani rozliczenie zostało skutecznie dostarczone  UPO dla e Deklaracji lub potwierdzenie wysyłki pocztowej    to US ma na zwrot podatku do 90 dni     pokaż całą treść  Pani Mirosławo  o ile Pani rozliczenie zostało skutecznie dostarczone  UPO dla e Deklaracji lub potwierdzenie wysyłki pocztowej    to US ma na zwrot podatku do 90 dni  Pozdrawiamy  Zespół PIT Formatzwiń    Autor    Mirosława _ 13 04 2016 09 09 08 _    Temat    Zwrot podatku  Witam kiedy można spodziewać się zwrotu podatku dodam że pit złożyłam na początku marca     pokaż całą treść  Witam kiedy można spodziewać się zwrotu podatku dodam że pit złożyłam na początku marca  zwiń    Autor    Producent programu _ 11 04 2016 09 33 59 _    Temat    do p  Otis  Szanoway Pani   oczywiscie  że mozna wybrać dowolną OPP  W celu zmiany KRS  proszę  będąc na karcie 1% podatku   kreator  bądź w dowolnym miejscy   aktywne deklaracje      pokaż całą treść  Szanoway Pani   oczywiscie  że mozna wybrać dowolną OPP  W celu zmiany KRS  proszę  będąc na karcie 1% podatku   kreator  bądź w dowolnym miejscy   aktywne deklaracje   wejść do menu Pomoc i tam jest już bezpośrednio przycisk   Swobodny wybór OPP  Pozdrawiamy  Zespół PIT Formatzwiń    Autor    Jan _ 09 04 2016 20 30 55 _    Temat    Najlepszy program  Super program w obsłudze chyba jedyny umożliwiający dowolny wybór KRS  Gratuluję i bardzo dziękuję  W jakimś momencie można było podać mail z prośbą o ponowne skorzystanie w przyszłym roku  przeoczyłem    pokaż całą treść  Super program w obsłudze chyba jedyny umożliwiający dowolny wybór KRS  Gratuluję i bardzo dziękuję  W jakimś momencie można było podać mail z prośbą o ponowne skorzystanie w przyszłym roku  przeoczyłem to szkoda zwiń    Autor    Otis _ 09 04 2016 11 57 11 _    Temat    1%  To dość niepoprawne że nie można wybrać OPP które się chce  tylko trzeba wybrać wśród preferowanych  Nie ma tutaj mowy o równym traktowaniu  /      Autor    Michał Z  _ 06 04 2016 13 29 40 _    Temat    Prosty program  dzieki  Właśnie tak powinien działać program do PIT ów  Zadawał kolejne pytania  przepisałem kilka rzeczy z pita od pracodawcy  a resztę program sam mi wyliczył  Wypełniłem PIT a bez niczyjej    pokaż całą treść  Właśnie tak powinien działać program do PIT ów  Zadawał kolejne pytania  przepisałem kilka rzeczy z pita od pracodawcy  a resztę program sam mi wyliczył  Wypełniłem PIT a bez niczyjej pomocy i jeszcze pomogłem wypełnić deklaracje znajomym  Skorzystam za rok napewnozwiń    Autor    Producent programu _ 06 04 2016 12 17 24 _    Temat    Do p  Krzysztof 34  Szanowny Panie  w celu zmiany KRS  proszę  będąc na karcie 1% podatku   kreator  bądź w dowolnym miejscy   aktywne deklaracje   wejść do menu Pomoc i tam    pokaż całą treść  Szanowny Panie  w celu zmiany KRS  proszę  będąc na karcie 1% podatku   kreator  bądź w dowolnym miejscy   aktywne deklaracje   wejść do menu Pomoc i tam jest już bezpośrednio przycisk   Swobodny wybór OPP  Pozdrawiamy  Zespół PIT Formatzwiń    Autor    Producent programu _ 06 04 2016 11 18 22 _    Temat    Do p  Krzysztof 34  Szanowny Panie  w celu zmiany KRS  proszę  będąc na karcie 1% podatku   kreator  bądź w dowolnym miejscy   aktywne deklaracje   wejść do menu Pomoc i tam    pokaż całą treść  Szanowny Panie  w celu zmiany KRS  proszę  będąc na karcie 1% podatku   kreator  bądź w dowolnym miejscy   aktywne deklaracje   wejść do menu Pomoc i tam jest już bezpośrednio przycisk   Swobodny wybór OPP  Pozdrawiamy  Zespół PIT Formatzwiń    Autor    Producent programu _ 06 04 2016 11 15 39 _    Temat    Do p  Krzysztof 34  Szanowny Panie   w celu zmiany KRS  proszę  będąc na karcie 1% podatku   kreator  bądź w dowolnym miejscu deklaracji   aktywne deklaracje   wejść do menu Pomoc    pokaż całą treść  Szanowny Panie   w celu zmiany KRS  proszę  będąc na karcie 1% podatku   kreator  bądź w dowolnym miejscu deklaracji   aktywne deklaracje   wejść do menu Pomoc i tam jest już bezpośrednio przycisk   Swobodny wybór OPP  Pozdrawiamy  Zespół PIT Formatzwiń    Autor    Producent programu _ 06 04 2016 11 13 32 _    Temat    do p  Podatnik  Szanowny Panie  proszę nie spamować komentarzy i nie wprowadzać w błąd użytkowników  Na jakiej podstawie wysuwa Pan takie zarzuty  Program PIT Format jest sprawdzonym i    pokaż całą treść  Szanowny Panie  proszę nie spamować komentarzy i nie wprowadzać w błąd użytkowników  Na jakiej podstawie wysuwa Pan takie zarzuty  Program PIT Format jest sprawdzonym i pewnym programem  nie zawiera żadnego wirusa  Pozdrawiamy  Zespól PIT Formatzwiń    Autor    M M  _ 04 04 2016 14 56 59 _    Temat    Spadek w PIT 37  Czy do rozliczenia PIT  37 dołączam informację o nabytym w tym roku spadku  Czy wystarczy zgłoszenie o nabyciu własności    złożone w 2015 i nie należy traktować spadku    pokaż całą treść  Czy do rozliczenia PIT  37 dołączam informację o nabytym w tym roku spadku  Czy wystarczy zgłoszenie o nabyciu własności    złożone w 2015 i nie należy traktować spadku jako przychodu zwiń    Autor    krzysztof34 _ 02 04 2016 12 20 17 _    Temat    zmiana 1%  Niestety ja męczę się i jakoś nie mogę zmienić krs w poz  57 deklaracji  Czy wystarczy wpis w poz 59    Autor    podatnik _ 01 04 2016 22 04 02 _    Temat    UWAGA  Wirus nie pobierać       Autor    Producent programu _ 31 03 2016 08 48 35 _    Temat    do p  Basi  Witam  oczywiście  ze może Pani rozliczyć dochody z zagranicy wraz z PIT36  Należy w tym celu uzupełnić dodatkowo załącznik uwzględniający DOCHODY ZAGRANICZNE  PIT    Pozdrawiamy  Zespół    pokaż całą treść  Witam  oczywiście  ze może Pani rozliczyć dochody z zagranicy wraz z PIT36  Należy w tym celu uzupełnić dodatkowo załącznik uwzględniający DOCHODY ZAGRANICZNE  PIT    Pozdrawiamy  Zespół PIT Formatzwiń    Autor    Adam _ 30 03 2016 16 20 53 _    Temat    Super program  Rok wcześniej korzystałem z jakiegoś bezpłatnego również  ale pamiętam  że było tam dużo błędów  W tym udało mi się bezproblemowo wypełnić pit roczny i bez problemu wysłać     pokaż całą treść  Rok wcześniej korzystałem z jakiegoś bezpłatnego również  ale pamiętam  że było tam dużo błędów  W tym udało mi się bezproblemowo wypełnić pit roczny i bez problemu wysłać  Program prowadzi za rączkę  każdy kto potrafi włączyć i obsługiwać komputer sobie z nim poradzi  Zapisałem sobie ten program i jak za rok będzie nowa wersja  na pewno skorzystam zwiń    Autor    Adam _ 30 03 2016 16 19 02 _    Temat    Super program  Rok wcześniej korzystałem z jakiegoś bezpłatnego również  ale pamiętam  że było tam dużo błędów  W tym udało mi się bezproblemowo wypełnić pit roczny i bez problemu wysłać     pokaż całą treść  Rok wcześniej korzystałem z jakiegoś bezpłatnego również  ale pamiętam  że było tam dużo błędów  W tym udało mi się bezproblemowo wypełnić pit roczny i bez problemu wysłać  Program prowadzi za rączkę  każdy kto potrafi włączyć i obsługiwać komputer sobie z nim poradzi  Zapisałem sobie ten program i jak za rok będzie nowa wersja  na pewno skorzystam zwiń    Autor    gosia5432 _ 29 03 2016 22 35 39 _    Temat    Dziękuję za dobry bezpłatny program  Trafiłam na w  program  pobrałam sobie i przed świętami rozliczyłam się już za 2015 r  Powiem Wam  że miałam obawy  bo to program do rozliczeń podatków  ale    pokaż całą treść  Trafiłam na w  program  pobrałam sobie i przed świętami rozliczyłam się już za 2015 r  Powiem Wam  że miałam obawy  bo to program do rozliczeń podatków  ale jest tak prosty i intuicyjny  że każdy sobie z nim poradzi  Zawsze zlecałam jakiejś księgowej rozliczenia  a w tym roku dzięki temu programowi mam kilkadziesiąt zł zaoszczędzone  Dzięki  zwiń    Autor    Basia _ 29 03 2016 18 22 37 _    Temat    Praca za granicą  Czy przy pomocy tego programu będę mogła rozliczyć się na PIT 36 wraz z dochodami za prace w Niemczech     Autor    Basia _ 29 03 2016 18 20 27 _    Temat    Praca za granicą  Czy przy pomocy tego programu będę mogła rozliczyć się na PIT 36 wraz z dochodami za prace w Niemczech     Autor    Producent programu _ 29 03 2016 10 03 15 _    Temat    Do p  Kris  Szanowny Panie < to nie przyczyna błędu w programie  ale wynik zmian które od początku lutego gdzie MF zmieniło ustawienia protokołowania przesyłu eDeklaracji żądając dodatkowo protokołu TLS   Ten   pokaż całą treść  Szanowny Panie< to nie przyczyna błędu w programie  ale wynik zmian które od początku lutego gdzie MF zmieniło ustawienia protokołowania przesyłu eDeklaracji żądając dodatkowo protokołu TLS   Ten „błąd” wystepuje tylko w systemach XP  Co należy zrobić  Należy na komputerze otworzyć okno   opcje internetowe  start >panel sterowania >opcje internetowe   zakładka Zaawansowane  Odszukujemy opcję  Użyj TLS 1 0 i ją zaznaczamy   Naciskamy zastosuj  Ta operacja rozwiązuje w  problem  Pozdrawiamy Zespół PIT Formatzwiń    Autor    Producent programu _ 29 03 2016 09 58 17 _    Temat    Do p  MICHAŁ KOŁUCKI  Szanowny Panie  a gdzie Pan te frazy wpisuje i czego Pan szuka  Proszę kliknąć powyżej grafikę  Pobierz program  aby program zapisać na dysku i się rozliczyć lub    pokaż całą treść  Szanowny Panie  a gdzie Pan te frazy wpisuje i czego Pan szuka  Proszę kliknąć powyżej grafikę  Pobierz program  aby program zapisać na dysku i się rozliczyć lub Uruchom Online i otworzy się Pan nasza wersja programu do rozliczeń pit w przeglądarkach  Pozdrawiamy  Zespół PIT Formatzwiń    Autor    Do Pana bbb _ 29 03 2016 09 51 28 _    Temat    Producent programu  Szanowny Panie   niniejszy program pozwala na zmianę KRS i ta informacja jest wyraźnie podana w treści umowy licencyjnej przed isnatacją programu  W celu zmiany KRS  proszę     pokaż całą treść  Szanowny Panie   niniejszy program pozwala na zmianę KRS i ta informacja jest wyraźnie podana w treści umowy licencyjnej przed isnatacją programu  W celu zmiany KRS  proszę  będąc na karcie 1% podatku   kreator  bądź w dowolnym miejscy   aktywne deklaracje   wejść do menu Pomoc i tam jest już bezpośrednio przycisk   Swobodny wybór OPP  Pozdrawiamy  Zespół PIT Formatzwiń    Autor    Do Pana Kox _ 29 03 2016 09 49 27 _    Temat    Producent programu  Szanowny Panie  Proszę o doprecyzowanie o jakim błędzie Pan pisze  Jakiego formularza PIT to dotyczy  Nie mieliśmy do tej pory żadnego zgłoszenia a z programu naszego do    pokaż całą treść  Szanowny Panie  Proszę o doprecyzowanie o jakim błędzie Pan pisze  Jakiego formularza PIT to dotyczy  Nie mieliśmy do tej pory żadnego zgłoszenia a z programu naszego do dziś skorzystało prawie 1 1 mln podatników  Proszę o kontakt z naszym BOK  pit pomoc@formsoft pl w celu weryfikacji Pana zgłoszenia  Pozrawiamy  Zespół PIT Formatzwiń    Autor    MICHAŁ KOŁUCKI _ 24 03 2016 20 37 04 _    Temat    ROZLICZENIE PIT 2015  TO JAKIEŚ JAJA PRÓBUJĘ OD GODZINY ROZLICZYCZ SIĘ Z URZĘDEM ALE NIE MOGĘ WEJŚCI DO PROGRAMU WPISUJĄC FRAZY PIT 2015  ROZLICZENIE PIT 2015 ROZLICZENIE PIT ONline 2015i nie    pokaż całą treść  TO JAKIEŚ JAJA PRÓBUJĘ OD GODZINY ROZLICZYCZ SIĘ Z URZĘDEM ALE NIE MOGĘ WEJŚCI DO PROGRAMU WPISUJĄC FRAZY PIT 2015  ROZLICZENIE PIT 2015 ROZLICZENIE PIT ONline 2015i nie mogę się rozliczyć zwiń    Autor    Kris _ 24 03 2016 18 30 51 _    Temat    Problem  Witam A wyskakuje taki błąd  [  Jak mam wysłać tą e deklarację  Pozdrawiam    Autor    bbb _ 23 03 2016 15 35 29 _    Temat    Blokada KRS  Program fajny szkoda tylko że wersja instalacyjna nie pozwala zmienić numer KRS  rozumie że biznes to biznes  ale przynajmniej napiszcie wyraźnie że po długim wypełnianiu deklaracji nagle    pokaż całą treść  Program fajny szkoda tylko że wersja instalacyjna nie pozwala zmienić numer KRS  rozumie że biznes to biznes  ale przynajmniej napiszcie wyraźnie że po długim wypełnianiu deklaracji nagle widzisz że blokuje się zmianę KRS    pewnie żeby na tym zarobić  jest to ok  tylko uczciwość wymagałaby poinformować o tym potencjalnych użytkowników  zwiń    Autor    Stas _ 23 03 2016 12 27 22 _    Temat    Do  Producent programu  Po kliknięciu po prostu nic się nie dzieje  Natomiast bez problemu zainstalowałem ten program na Windows 7    Autor    Kox _ 23 03 2016 12 21 25 _    Temat    Błąd  Uwaga   program zawiera błąd w części L     pokaż całą treść  Uwaga   program zawiera błąd w części L  zwiń    Autor    Producent programu _ 21 03 2016 16 05 19 _    Temat    Do p  Stas  Szanowny Panie  Wygląda na to  że to jakaś wyjątkowa sytuacja  Prosimy o więcej szczegółów dlaczego program się nie instaluje na systemie XP – pojawiają się jakieś szczególne    pokaż całą treść  Szanowny Panie  Wygląda na to  że to jakaś wyjątkowa sytuacja  Prosimy o więcej szczegółów dlaczego program się nie instaluje na systemie XP – pojawiają się jakieś szczególne błędy  czy instalator się zawiesza  Informuję  iż jak wynika z naszych statystyk  mamy wielu użytkowników systemu Windows XP i program zachowuje się bez problemów  Proszę o kontakt z naszym BOK  pit  pomoc@formsoft pl lub pod nr tel 76 854 79 58   na pewno Panu pomożemy  Pozdrawiamy  Zespól PIT Format zwiń    Autor    Ja _ 17 03 2016 07 57 27 _    Temat    W porządku  Program w porządku  jest w nim wszystko co trzeba  No chyba tylko brakuje tego  żeby sam wpisywał dane     No ale nie można mieć wszystkiego  Sam nie korzystałem    pokaż całą treść  Program w porządku  jest w nim wszystko co trzeba  No chyba tylko brakuje tego  żeby sam wpisywał dane     No ale nie można mieć wszystkiego  Sam nie korzystałem z edeklaracji ale ponoć fajny pomysł i szybciej dostaje się zwrot podatku  Niestety u mnie nie było żadnego zwrotu zwiń    Autor    Mynar _ 16 03 2016 07 35 02 _    Temat          Obecnie jeden z czytelniejszych programów do wypełniania pitów  Przerobiłem z żoną chyba wszystkie kreatory  Tylko ten na pierwszy rzut oka nie odrzuca  Od razu wiadomo o co    pokaż całą treść  Obecnie jeden z czytelniejszych programów do wypełniania pitów  Przerobiłem z żoną chyba wszystkie kreatory  Tylko ten na pierwszy rzut oka nie odrzuca  Od razu wiadomo o co chodzi i jak korzystać z programu  Poprawiłbym kilka funkcji bo trzeba szukać choćby ten nieszczęsny krs  Generalnie 4+  I proszę się spieszyć bo już niedużo czasu pozostało do końca rozliczenia zwiń    Autor    Dobry _ 15 03 2016 08 15 36 _    Temat    Dobry kreator  Dobry kreator deklaracji  Rok temu korzystałem z konkurencji i nie było tylu opcji co tutaj  Fajnie że mogłem wysłać edeklarację choć miałem pewne obawy  Niemniej jednak kreator    pokaż całą treść  Dobry kreator deklaracji  Rok temu korzystałem z konkurencji i nie było tylu opcji co tutaj  Fajnie że mogłem wysłać edeklarację choć miałem pewne obawy  Niemniej jednak kreator bardzo czytelny i dość łatwy  Wiadomo co gdzie i kiedy kliknąć i wypełnić zwiń    Autor    TomaszPodatnik _ 14 03 2016 08 12 38 _    Temat    Opinia  Program w stosunku do zeszłego roku uległ znacznym aktualizacjom  Nowe formularze i jakby łatwiej było wszystko znaleźć  Nie lubię płacić za rzeczy  które mogę zrobić sam  ten    pokaż całą treść  Program w stosunku do zeszłego roku uległ znacznym aktualizacjom  Nowe formularze i jakby łatwiej było wszystko znaleźć  Nie lubię płacić za rzeczy  które mogę zrobić sam  ten program mi to umożliwia rewelacyjnie  Polecam wszystkim  zwiń    Autor    Grzesiek _ 13 03 2016 16 21 06 _    Temat    Naqrzucony krs  Potwierdzam  niby nienarzucony  ale i tak trzeba wytbrac z kilku  gdzie jest dotacja dla autora ocena  0    Autor    Stas _ 12 03 2016 09 44 53 _    Temat    nie działa  Mam Windows XP  używam tego programu od 5 lat i chciałbym dalej go używać ale o dziwo nie instaluje się już na tym systemie  Dlaczego     Autor    Kasia K  _ 11 03 2016 12 20 41 _    Temat    ja polecam  Znam program od lat i używam tylko niego  Intuicyjny i prosty  Jedyny problem przy wypełnianiu pita to komu przeznaczyć swój jeden procent  bo jet w czym wybierac       pokaż całą treść  Znam program od lat i używam tylko niego  Intuicyjny i prosty  Jedyny problem przy wypełnianiu pita to komu przeznaczyć swój jeden procent  bo jet w czym wybierac    Nie mam się do czego doczepić  Lepszy już chyba być nie może zwiń    Autor    KRS _ 09 03 2016 07 43 30 _    Temat    Do \"Złego\"  Drogi kolego chyba nie za bardzo się zaznajomiłeś z programem  Wystarczy wejść w ustawienia i wpisać dowolny nr KRS  Rok temu faktycznie KRS był narzucony z góry    pokaż całą treść  Drogi kolego chyba nie za bardzo się zaznajomiłeś z programem  Wystarczy wejść w ustawienia i wpisać dowolny nr KRS  Rok temu faktycznie KRS był narzucony z góry ale teraz można samemu podać  Dla mnie super programik  Do tego program intuicyjny i przejrzysty  Zawsze lepiej samemu sobie wypełnić niż płacić 100 zł księgowej  zwiń    Autor    zły _ 08 03 2016 17 21 23 _    Temat    Bezpłatny  ale przekaż    Śmieszne  Napisane wszędzie jest \"darmowy  bezpłatnie rozlicz PIT 2015\" ale później jak się doczytuje trzeba przekazać 1% podatku organizacji pożytku publicznego   Śmiechłam srogo    Autor    Gość _ 07 03 2016 21 48 53 _    Temat    KRS  Oszustwo  W licencji jest podane \"bez swobodnego wyboru KRS\"    Autor    Kalina W  _ 07 03 2016 20 56 25 _    Temat    Doskonały jak dla mnie  Chce bardzo podziekowac za super program rozliczjacy pity  wiele lat korzystam z gotowych programow ale pierszy raz mam do czynienia z tak dobrym programem w obsludze    pokaż całą treść  Chce bardzo podziekowac za super program rozliczjacy pity  wiele lat korzystam z gotowych programow ale pierszy raz mam do czynienia z tak dobrym programem w obsludze jest poprostu bombowy  pozdrawiam i czekam na rok kolejnyzwiń    Autor    Producent programu _ 07 03 2016 19 44 29 _    Temat    do p  Waldemara  Szanowny Panie   niniejszy program pozwala na zmianę KRS i ta informacja jest wyraźnie podana w treści umowy licencyjnej  W celu zmiany KRS  proszę  będąc na karcie    pokaż całą treść  Szanowny Panie   niniejszy program pozwala na zmianę KRS i ta informacja jest wyraźnie podana w treści umowy licencyjnej  W celu zmiany KRS  proszę  będąc na karcie 1% podatku   kreator  bądź w dowolnym miejscy   aktywne deklaracje   wejść do menu Pomoc i tam jest już bezpośrednio przycisk   Swobodny wybór OPP  Pozdrawiamy  Zespół PIT Formatzwiń    Autor    Producent programu _ 07 03 2016 19 39 00 _    Temat    do P  Gość  Szanowny Panie  proszę nie wprowadzać innych użytkowników w błąd  gdyż program pozwala na zmianę KRS a treść umowy licencyjnej wyraźnie brzmi  22  Niniejsza wersja Programu umożliwia    pokaż całą treść  Szanowny Panie  proszę nie wprowadzać innych użytkowników w błąd  gdyż program pozwala na zmianę KRS a treść umowy licencyjnej wyraźnie brzmi  22  Niniejsza wersja Programu umożliwia zmianę oraz pozwala na swobodny wybór i przekazanie 1% podatku dochodowego od osób fizycznych na dowolną organizację pożytku publicznego  zgodnie z nowelizacją Ustawy z dnia 24 kwietnia 2003 r  o działalności pożytku publicznego i o wolontariacie w związku z jej art  27c  Dz U 2014 1118  znowelizowana dnia 2015 11 18    Pozdrawiamy  Zespół PIT Format zwiń    Autor    Producent programu _ 07 03 2016 19 29 20 _    Temat    Do p  Anety  Pani Aneto  zarówno wersja 5 0 5 1 jak poprzednie dają możliwość wpisania dowolnego KRS  Ścieżka  którą Pani posiada jest poprawna  co wiecej  nawet ta wersja 5 0 5 1 ma ją \"wyciągniętą\"    pokaż całą treść  Pani Aneto  zarówno wersja 5 0 5 1 jak poprzednie dają możliwość wpisania dowolnego KRS  Ścieżka  którą Pani posiada jest poprawna  co wiecej  nawet ta wersja 5 0 5 1 ma ją \"wyciągniętą\" za zewnątrz   zaraz pod menu POMOC  Zapewne nie widzi jej Pani  gdyż aby z niej skorzystać należy koniecznie być w momencie wyboru przekazania 1%danej OPP   czyli w kreatorze   na karcie 1% podatku  Proszę jeszcze raz wejść do programu i skorzystać z tej opcji  POzdrawiamy  Zespół PIT Formatzwiń    Autor    GOŚC _ 05 03 2016 19 29 43 _    Temat    Brak możliwości zmiany OPP  Nie polecam tego programu  ponieważ niestety nie ma możliwości zmiany OPP  Taka informacja jest w licencji w ostatnim punkcie  Uważam  że to bardzo duży błąd producenta     Autor    Aneta _ 04 03 2016 18 53 58 _    Temat    1% podatku chcę wybrać samodzielnie  Witam  Proszę użytkowników a o ile to możliwe pomoc IT o wskazanie funkcji  gdzie mogę zaznaczyć KRS samodzielnie dla przekazania 1%podatku  Z góry dziękuję  W wersji programu 5 0 5 1 tego    pokaż całą treść  Witam  Proszę użytkowników a o ile to możliwe pomoc IT o wskazanie funkcji  gdzie mogę zaznaczyć KRS samodzielnie dla przekazania 1%podatku  Z góry dziękuję  W wersji programu 5 0 5 1 tego nie mam    POMOC>Poradnik>Zasady obsługi> Swobodny wybór OPP  zwiń    Autor    Płacący podatki _ 03 03 2016 22 59 05 _    Temat    Do Ani i Waldemara  Program powyżej daje możliwość wybrania własnej organizacji PP  Trochę trzeba poszukać ale taka funkcja jest  Aniu da się zainstalować   W czym problem  Co roku się rozliczam z    pokaż całą treść  Program powyżej daje możliwość wybrania własnej organizacji PP  Trochę trzeba poszukać ale taka funkcja jest  Aniu da się zainstalować   W czym problem  Co roku się rozliczam z pitem pl  niemniej jednak z roku na rok program jest coraz bardziej nastawiony na użytkownika  Czytelne komunikaty  łatwość zapisywania i ponownej edycji  Można by tylko poprawić szatę graficzną  Ale jak dla mnie bomba  zwiń    Autor    Waldemar _ 03 03 2016 10 47 13 _    Temat    Podatek 1%  Proszę o podanie programu  który nie wskazuje  którą organizację mam wybrać lecz dowolną     Autor    ania _ 02 03 2016 17 54 41 _    Temat    nie da sie  po pobraniu sie zainstalowac lipa    pokaż całą treść  po pobraniu sie zainstalowac lipa zwiń    Autor    Uzytkownik _ 02 03 2016 14 35 53 _    Temat    opinia  Dobry program  intuicyjny i prosty w nawigacji  Na tle konkurencji wypada dużo lepiej  Rok temu jak robiłem rozliczenie na innym programie to nie mogłem wybrać organizacji  której    pokaż całą treść  Dobry program  intuicyjny i prosty w nawigacji  Na tle konkurencji wypada dużo lepiej  Rok temu jak robiłem rozliczenie na innym programie to nie mogłem wybrać organizacji  której dam 1% tu nie było z tym problemu zwiń    Autor    Gosia89 _ 29 02 2016 21 14 36 _    Temat    Program PIT  Jak widać ponad 10 milionów rozliczonych pitów  Te liczby chyba nie kłamią  Spośród darmowych formularzy ten jest moim zdaniem jako jedyny godny polecenia  Dość intuicyjny  wszystkie pola    pokaż całą treść  Jak widać ponad 10 milionów rozliczonych pitów  Te liczby chyba nie kłamią  Spośród darmowych formularzy ten jest moim zdaniem jako jedyny godny polecenia  Dość intuicyjny  wszystkie pola ładnie wytłumaczone  tak na chłopski rozum  Chyba wszystkie możliwe pity do wypełnienia  Edeklaracji i do tego wybór organizacje do 1%  Superzwiń    Autor    Mateusz _ 28 02 2016 14 40 40 _    Temat    PIT  Przydatna aplikacja ponad 5 0000 pobrań  POLECAM Kanał YouTube znajomego Bladii309 polecam    Autor    Smoku _ 26 02 2016 10 24 51 _    Temat    pit  Jak to mówią \"za te pieniądze nic lepszego nie znajdziesz\"  Rewelacyjny skrypt do rozliczeń  Szybki  sprawny  nawet dla laika  Znajoma księgowa mi go sprawdzała i sama stwierdziła     pokaż całą treść  Jak to mówią \"za te pieniądze nic lepszego nie znajdziesz\"  Rewelacyjny skrypt do rozliczeń  Szybki  sprawny  nawet dla laika  Znajoma księgowa mi go sprawdzała i sama stwierdziła  że jej program do rozliczeń jest \"toporny\"  zwiń    Autor    Biuro rachunkowe Profit _ 26 02 2016 09 53 35 _    Temat    godny polecenia  Nasze biuro korzysta z programu PitFormat już kolejny rok  Fajnie  że i tutaj na pit pl go udostepniacie  Jest dość łatwy   o ile tak można powiedzieć przy    pokaż całą treść  Nasze biuro korzysta z programu PitFormat już kolejny rok  Fajnie  że i tutaj na pit pl go udostepniacie  Jest dość łatwy   o ile tak można powiedzieć przy rozliczeniach    ale bardzo intuicyjny  Najważniejsze  że oszczędzamy czas a nasi klienci mają poprawnie wypełnione rozliczenia roczne  Za rok na pewno tu wrócimy zwiń    Autor    Lechu39 _ 25 02 2016 20 38 49 _    Temat    Git  W tym roku 3x70 zł w kieszeni  Niestety księgowa nie zarobi  miałem nadzieje  że to będzie tylko formularz do wypełnienia  a tu taki dość wymagający program  ale    pokaż całą treść  W tym roku 3x70 zł w kieszeni  Niestety księgowa nie zarobi  miałem nadzieje  że to będzie tylko formularz do wypełnienia  a tu taki dość wymagający program  ale poradziłem sobie w godzinkę z całą rodziną  Pity wysłane do tego drogą elektroniczną wiec do przoduj jestem jeden dzień urlopu zwiń    Autor    admin _ 25 02 2016 13 36 42 _    Temat    do p  Justyny  Proszę o dokładniejsze opisanie problemu  a nawet screeny komunikatu o wspomnianym błędzie  Najlepiej skontaktować się z działem technicznym pit  pomoc@formsoft pl lub pod nr telefonu  76 854 79 58     pokaż całą treść  Proszę o dokładniejsze opisanie problemu  a nawet screeny komunikatu o wspomnianym błędzie  Najlepiej skontaktować się z działem technicznym pit  pomoc@formsoft pl lub pod nr telefonu  76 854 79 58  W ten sposób pomożemy i wyjaśnimy  co się stało zwiń    Autor    jUSTYNA _ 25 02 2016 12 15 23 _    Temat    1%  Nie ma możliwości wybrania dowolnej opp  wyskakuje bład jakiśtam  wylicza ok     pokaż całą treść  Nie ma możliwości wybrania dowolnej opp  wyskakuje bład jakiśtam  wylicza ok  zwiń    Autor    Producent programu _ 25 02 2016 11 57 57 _    Temat    do p  Teresa K   Szanowna Pani  Wykonaliśmy w naszym programie kilkukrotnie próby wpisując w dowolnie wybrany KRS w pole cel szczegółowy  nr indywidualny  Imię i nazwisko  Za każdym razem wynik na    pokaż całą treść  Szanowna Pani  Wykonaliśmy w naszym programie kilkukrotnie próby wpisując w dowolnie wybrany KRS w pole cel szczegółowy  nr indywidualny  Imię i nazwisko  Za każdym razem wynik na wydruku jest poprawny i widnieją pełne dane wpisane w pole cel szczegółowy  Nie mielimy też do tej pory żadnego takiego zgłoszenia  a z programu z wpisanym innym KRS i Celem szczegółowym do tej pory skorzystało kilka tysięcy uzytkowników  A więc  abyśmy mogli pomóc i wyjaśnić te zagadkę  uprzejmie proszę o przesłanie nam znajdującego się z folderze PIT Format 2015  pliku  dane mdb  Plik ten należy załączyć do emaila i wysłać pod adres  pit  pomoc@formsoft pl  Pozdrawiamy  Zespół PIT Format 2015zwiń    Autor    Podatnik _ 25 02 2016 07 40 45 _    Temat    Program  Przyjemny program do rozliczeń  Intuicyjny i czytelny  Zawsze miałem obawy do takich programów a tu miło się rozczarowałem   Dobry pomysł z eDeklaracją bo nie musiałem marnować dnia    pokaż całą treść  Przyjemny program do rozliczeń  Intuicyjny i czytelny  Zawsze miałem obawy do takich programów a tu miło się rozczarowałem   Dobry pomysł z eDeklaracją bo nie musiałem marnować dnia na złożenie pitu w urzędzie zwiń    Autor    Teresa K _ 24 02 2016 14 14 03 _    Temat    1%  Witam  Wybrałam dowolną OPP i wpisałam cel szczegółowy  niestety na wydruku jest tylko imię dziecka   brak nazwiska i indywidualnego numeru  Proszę o pomoc     Autor    Marcello _ 23 02 2016 15 21 36 _    Temat    jest ok  Spoko program  Od 2013 roku robię na nim pity i zawsze wszystko załatwiam w max  10 minut  Fajnie  że można przekazać 1% na dowolną fundację     Autor    Marcin _ 23 02 2016 14 58 50 _    Temat    szybko mi poszło  Pierwszy raz odważyłem się rozliczyć samodzielnie pit 37  Okazało się to banalnie proste z tym waszym programem  Kreator to fajna sprawa  Z moją zerową wiedzą księgową dałem    pokaż całą treść  Pierwszy raz odważyłem się rozliczyć samodzielnie pit 37  Okazało się to banalnie proste z tym waszym programem  Kreator to fajna sprawa  Z moją zerową wiedzą księgową dałem sobie radę  Dzięki  Za rok tdo was teź wróce i powiem znajomym by skorzystali zwiń    Autor    Producent programu _ 23 02 2016 14 51 48 _    Temat    do W P   Szanowny Panie  oczywiście  że można wpisać dowolny i nie możliwym jest  że aktualizacja nie działa  Proszę rozliczyć PITa i będąc w miejscu 1% na Karcie kreatora bądź    pokaż całą treść  Szanowny Panie  oczywiście  że można wpisać dowolny i nie możliwym jest  że aktualizacja nie działa  Proszę rozliczyć PITa i będąc w miejscu 1% na Karcie kreatora bądź na swojej deklaracji   w aktywnych deklaracjach  wejść do menu POMOC>Poradnik> Zasady działania programu i poniżej jest link  Swobodny wybór OPP  Zanim zacznie Pan \"krzyczeć\" na forum  proszę uprzejmie o uprzedni kontakt z nami   nikogo nie pozostawiamy bez pomocy  Pozdrawiamy  Zespół PIT Format 2015zwiń    Autor    Producent programu _ 23 02 2016 13 48 27 _    Temat    do p  Zywy  Program PIT Format udostępniany na stronach PIT pl zawiera domyślnie listę 13 znanych w Polsce Organizacji Pożytku Publicznego  każda o różnym rodzaju działalności   m in  SOS Wioski dziecięce     pokaż całą treść  Program PIT Format udostępniany na stronach PIT pl zawiera domyślnie listę 13 znanych w Polsce Organizacji Pożytku Publicznego  każda o różnym rodzaju działalności   m in  SOS Wioski dziecięce  Serce Dziecka  Fundacja dr  Clowna  Cor Infantis itd    i na te OPP zachęcamy przekazywać 1% podatku  Jednak jeśli żadnej z nich nie chce Pan wskazać  to jak najbardziej możliwa jest zmiana i wpisanie dowolnego KRS  Proszę uprzejmie sprawdzić czy posiadają Państwo wersję  5 0 4  następnie będąc na karcie Kreatora  1% podatku bądź w dowolnym miejscu w Aktywnej Deklaracji należy kliknąć w menu główne programu  POMOC>Poradnik>Zasady obsługi> Swobodny wybór OPP  Tutaj jest bezpośrednie okno do wpisania dowolnego krs  Pozdrawiamy  Zespół PIT Format 2015zwiń    Autor    Producent programu _ 23 02 2016 13 06 11 _    Temat    do p  Zywy  Program PIT Format udostępniany na stronach PIT pl zawiera domyślnie listę 13 znanych w Polsce Organizacji Pożytku Publicznego  każda o różnym rodzaju działalności   m in  SOS Wioski dziecięce     pokaż całą treść  Program PIT Format udostępniany na stronach PIT pl zawiera domyślnie listę 13 znanych w Polsce Organizacji Pożytku Publicznego  każda o różnym rodzaju działalności   m in  SOS Wioski dziecięce  Serce Dziecka  Fundacja dr  Clowna  Cor Infantis itd    i na te OPP zachęcamy przekazywać 1% podatku  Jednak jeśli żadnej z nich nie chce Pan wskazać  to jak najbardziej możliwa jest zmiana i wpisanie dowolnego KRS  Proszę uprzejmie sprawdzić czy posiadają Państwo wersję  5 0 4  następnie będąc na karcie Kreatora  1% podatku bądź w dowolnym miejscu w Aktywnej Deklaracji należy kliknąć w menu główne programu  POMOC>Poradnik>Zasady obsługi> Swobodny wybór OPP  Tutaj jest bezpośrednie okno do wpisania dowolnego krs  Pozdrawiamy  Zespół PIT Format 2015zwiń    Autor    zywy _ 23 02 2016 12 21 57 _    Temat       nie można wpisać dowolnej organizacji na którą chcemy przekazać 1% swojego podatku  program proponuje inne spośród kilku mozliwych    Autor    Tomasz _ 23 02 2016 10 33 09 _    Temat    opinia o programie  Dość dobry i co najważniejsze prosty program do rozliczeń  Rok temu korzystając z podobnego narzędzia byłem zmuszony do przekazania 1% podatku na jakąś fundację  Tu mogłem sam    pokaż całą treść  Dość dobry i co najważniejsze prosty program do rozliczeń  Rok temu korzystając z podobnego narzędzia byłem zmuszony do przekazania 1% podatku na jakąś fundację  Tu mogłem sam wpisać gdzie chcę przekazać 1%  Mam nadzieję  że za rok nic się nie zmieni zwiń    Autor    Producent programu _ 22 02 2016 16 34 22 _    Temat    Do p  Kuby  Szanowny Panie  sytuacja  o której Pan pisze i która u Pana wystąpiła jest wyjątkowa i prawdopodobnie jest jakąś wytyczną niespodziewanych zdarzeń  Albo miał Pan wczesnej    pokaż całą treść  Szanowny Panie  sytuacja  o której Pan pisze i która u Pana wystąpiła jest wyjątkowa i prawdopodobnie jest jakąś wytyczną niespodziewanych zdarzeń  Albo miał Pan wczesnej pobraną inną wersję programu PIT Format 2015 i tę z serwisu pit pl zapisał w tym samym folderze   lub odwrotnie  bądź nastąpiło przerwanie pobierania aktualizacji  Proszę uprzejmie uruchomić program PIT Format   następnie wybrać z menu POMOC> Aktualizacja> Aktualizuj program ręcznie i jeśli pojawi się informacja o wersji 5 0 4 2   proszę ją pobrać  Zmiana KRS jest jak najbardziej możliwa   POMOC>Poradnik>Zasady obsługi>Swobodny wybór OPP  Jeśli natomiast te czynności nie pomogą  proszę najlepiej usunąć dotychczasową wersję programu i pobrać z serwisu pit pl nową instalkę   dane zapisane poprzednio można zaimportować  i wtedy już nie będzie problemu z wpisanie wg w  ścieżki dowolnego KRS  W razie jakichkolwiek pytań   proszę pisać do nas bezpośrednio  pit pomoc@formsoft pl   na pewno pomożemy  Pozdrawiamy  Zespół PIT Format 2015 zwiń    Autor    ja _ 22 02 2016 13 33 48 _    Temat    program  dobry    Autor    Kuba _ 22 02 2016 13 00 20 _    Temat    Brak możliwosci wyboru dowolnej fundacji dla 1% oraz błąd  Brak jest możliwości wpisania lub wybrania dowolnej organizacji pożytku publicznego  Nie można edytować pola z numerem KRS oraz celu szczegółowego  Po za tym lista rozwijana generuje błąd     pokaż całą treść  Brak jest możliwości wpisania lub wybrania dowolnej organizacji pożytku publicznego  Nie można edytować pola z numerem KRS oraz celu szczegółowego  Po za tym lista rozwijana generuje błąd  \"List index out of bounds  0 \" [wersja programu 5 0 4] lub wyświetl listę tylko z Fundacją Słoneczko    Kiedy pojawi sie poprawka tego błędu jako aktualizacja zwiń    Autor    gosć _ 22 02 2016 11 21 34 _    Temat    zadowolony użytkownik  Rozliczyłem się z programem po raz kolejny i az jestem zaskoczony taką prostotą i łatwościa w wypełnianiu samodzielnym PIta  dziękuje twórcom  to kawał dobrej roboty     Autor    Kinga K  _ 22 02 2016 10 51 40 _    Temat    KRS  ja tez nie wiem o co chodzi bo mam program pobrany z styczniu  nie ściagam aktu   nigdy tego nie robię  i mam też pod listą ten    pokaż całą treść  ja tez nie wiem o co chodzi bo mam program pobrany z styczniu  nie ściagam aktu   nigdy tego nie robię  i mam też pod listą ten KRS  Moze w nowszych wersjach cos sie zmieniło   ale to juz mnie nie dotyczy  Ja PIta wypełniłam i mam spokój zwiń    Autor    Kaja _ 22 02 2016 00 33 38 _    Temat    do W P   Ja mam w starej wersji programu na końcu listy polecanych OPP możliwość wyboru dowolonej OPP   tam wpisuję nr KRS i gotowe     pokaż całą treść  Ja mam w starej wersji programu na końcu listy polecanych OPP możliwość wyboru dowolonej OPP   tam wpisuję nr KRS i gotowe  zwiń    Autor    W P  _ 21 02 2016 16 58 07 _    Temat    A GDZIE MOŻLIWOŚĆ WYBORU 1% PODATKU           Nie ma możliwości wyboru fundacji na rzecz  której chcemy przekazać 1%   Ktoś w komenbtarza pisze o dodatkowej opcji w programie z nowa aktualizacją   bzdura  Nowa wersja    pokaż całą treść  Nie ma możliwości wyboru fundacji na rzecz  której chcemy przekazać 1%   Ktoś w komenbtarza pisze o dodatkowej opcji w programie z nowa aktualizacją   bzdura  Nowa wersja si pobiera  ale nie otwiera  Nie ma wcale opcji dopisania fundacji  Narzucacie tylko swoją  Jak tak można   Nie pobierajcie tego zwiń    Autor    Kazimierz _ 20 02 2016 17 05 09 _    Temat    Umowa zlecenie  Pracowałem na umowę zlecenie w dwóch firmach  moje koszty uzyskania to 3000 złotych i program oblicza zeznanie od tej wpisanej kwoty  Natomiast kwota kosztów uzyskania z więcej    pokaż całą treść  Pracowałem na umowę zlecenie w dwóch firmach  moje koszty uzyskania to 3000 złotych i program oblicza zeznanie od tej wpisanej kwoty  Natomiast kwota kosztów uzyskania z więcej niż jednego źródła w 2015 r  to 2002 05 zł zwiń    Autor    producent programu _ 19 02 2016 05 00 06 _    Temat    jak wybrać dowolną OPP w programie  Program PIT Format udostępniany na stronach PIT pl zawiera domyślnie listę 13 znanych w Polsce Organizacji Pożytku Publicznego  każda o różnym rodzaju działalności  Jednak jeśli żadnej z nich    pokaż całą treść  Program PIT Format udostępniany na stronach PIT pl zawiera domyślnie listę 13 znanych w Polsce Organizacji Pożytku Publicznego  każda o różnym rodzaju działalności  Jednak jeśli żadnej z nich nie chce przekazać Pan 1%  to jak najbardziej możliwa jest zmiana i wpisanie dowolnego KRS  Proszę uprzejmie zaktualizować program do wersji 5 0 4 2  następnie będąc na karcie Kreatora  1% podatku bądź w dowolnym miejscu w Aktywnej Deklaracji należy kliknąć w menu główne programu  POMOC>Poradnik>Zasady obsługi> Swobodny wybór OPP  Tutaj jest bezpośrednie okno do wpisania krs  zwiń    Autor    producent programu _ 17 02 2016 14 50 55 _    Temat    do Pana Roberta  W przypadku braku kwoty 1%  na wydrukowanej deklaracji lub utworzonej e deklaracji nie pojawia się numer KRS  Widoczny on jest co prawda w programie  na podglądzie   jednak po    pokaż całą treść  W przypadku braku kwoty 1%  na wydrukowanej deklaracji lub utworzonej e deklaracji nie pojawia się numer KRS  Widoczny on jest co prawda w programie  na podglądzie   jednak po wydruku lub wysłaniu e deklaracji pole „numer KRS” jest puste  Nic nie trzeba odhaczać  Program sam pomija numer KRS na wydruku deklaracji  Prosimy w programie na utworzonej deklaracji wybrać  Wydrukuj – Podgląd a zobaczy Pan  że pole „numer KRS „ będzie puste  Może Pan bez przeszkód deklarację wydrukować lub wysłać elektronicznie zwiń    Autor    ANNA G  _ 15 02 2016 17 23 52 _    Temat    SPRZEDAZ MIESZKANIA   CZY MUSZE SIE ROZLICZAC POPRZEZ PIT 39 ZE SPRZEDANEGO MIESZKANIA  JEZELI NIEMAM DOCHODU I    pokaż całą treść  CZY MUSZE SIE ROZLICZAC POPRZEZ PIT 39 ZE SPRZEDANEGO MIESZKANIA  JEZELI NIEMAM DOCHODU I MIESZKAM W USA  DZIEKI ZA ODPOWIEDZ  zwiń    Autor        _ 13 02 2016 13 30 46 _    Temat         czy zna ktoś inny program  który umożliwia zmianę KRSU  zmuszanie mnie do wpłacanie podatku na konkretną   chrześcijańską organizację jest wg mnie przesadą     Autor    Robert _ 08 02 2016 14 23 38 _    Temat    Nie ma opcji \"bez 1%\"  Nie wychodzi mi podatek  który moge przekazac 1%  W zwiazku z tym nie moge wyslac deklaracji  bo program i tak umieszcza numery fundacji w deklaracji oraz wpisuje    pokaż całą treść  Nie wychodzi mi podatek  który moge przekazac 1%  W zwiazku z tym nie moge wyslac deklaracji  bo program i tak umieszcza numery fundacji w deklaracji oraz wpisuje kwote \"0\"  Urzad skarbowy kaze to poprawic  rok temu jak i w poprzednich dalo sie uzyskac wersje programu gdzie mozna bylo odhaczyc te opcje przekazania kwoty 1%zwiń    Autor    admin _ 26 01 2016 14 11 29 _    Temat    interaktywny PIT 16A do wysyłki online  MF nadal nie udostępniło PIT 16A za 2015 rok  Interaktywny druk można pobrać ze strony   do 1 lutego 15442/ z linku   &id=8988    Autor    do Monia i Adam _ 26 01 2016 14 07 26 _    Temat    jak wypełnić PIT 28  Poz  118 należy uzupełnić ręcznie  program nie sumuje wpisanych wartości wpłaconego ryczałtu  ponieważ pozycję tę należy uzupełnić jako pierwszą  Jeżeli chodzi o kwotę 1% to na jej istnienie    pokaż całą treść  Poz  118 należy uzupełnić ręcznie  program nie sumuje wpisanych wartości wpłaconego ryczałtu  ponieważ pozycję tę należy uzupełnić jako pierwszą  Jeżeli chodzi o kwotę 1% to na jej istnienie nie ma wpływu zaistnienie konieczności zapłacenia podatku czy nadpłata  1% podatku w PIT 28 wyliczany jest z poz  114  kwota należnego ryczałtu  i w opisywanym przypadku niezależnie od wypełnionej poz  132 wyliczona kwota 1% została wyliczona z poz  114 zwiń    Autor    Monia _ 25 01 2016 13 52 37 _    Temat    Błąd w programie PIT 28  Dokładnie ten sam błąd co u Pana Adama wyżej  Nie podlicza wpłaconego ryczałtu    ale jak to ręcznie poprawić      pokaż całą treść  Dokładnie ten sam błąd co u Pana Adama wyżej  Nie podlicza wpłaconego ryczałtu    ale jak to ręcznie poprawić   zwiń    Autor    Adam _ 17 01 2016 17 50 18 _    Temat    Błąd w programie  Przy pomocy kreatora wypełniałem PIT 28  Program wyliczył  że mam do zapłacenia 340 zł  w związku z czym mogę przekazać 1% na OPP w wysokości 3 40 zł     pokaż całą treść  Przy pomocy kreatora wypełniałem PIT 28  Program wyliczył  że mam do zapłacenia 340 zł  w związku z czym mogę przekazać 1% na OPP w wysokości 3 40 zł  Okazało się  że nie zsumował kwot wpłaconego ryczałtu  poz  121   131   Po \"ręcznym\" zsumowaniu i wypełnieniu poz  132 program wyliczył  prawidłowo   że mam nadpłatę i otrzymam zwrot nadpłaconego podatku  Wobec tego nie było czego wpłacać na OPP  Jednak w dalszym ciągu w poz  134   135 widniała kwota 3 40 zł do przekazania na OPP i w żaden sposób nie mogłem jej usunąć  nawet po ponownym wypełnieniu formularza od początku zwiń  Pokaż wszystkie komentarze Dodaj swój komentarz  Autor   Temat   Treść komentarza    []         Jak obniżyć podatek za 2017 rok       PIT 2017   aktualne ulgi i terminy                             e Porady za darmo   PRZEJDŹ DO   DARMOWEJ   BAZY E PORAD        02 11   Ulga mieszkaniowa a podatek PIT       02 11   Rodzic samotnie wychowujący dziecko a ulga w PIT       02 11   Sprzedaż polikwidacyjna  ']"
      ]
     },
     "execution_count": 15,
     "metadata": {},
     "output_type": "execute_result"
    }
   ],
   "source": [
    "reduction=[]\n",
    "for a in articles:\n",
    "    m = re.search(\"(data utworzenia.*|Komentarze.*)\", str(a))\n",
    "    if m:\n",
    "        found = m.group(1)\n",
    "        reduction.append(found)\n",
    "reduction[:5]    "
   ]
  },
  {
   "cell_type": "raw",
   "metadata": {},
   "source": [
    "OK, it looks like real comments. Maybe could be better cutting them in a scrapy pipeline. Especially since there is a pretty css selector for them: h2.comment-title. It would protect against accidental cutting articles with sentences like: \"Komentarze Izby Skarbowej nie zostawiają tu wątpliwości\" etc."
   ]
  },
  {
   "cell_type": "markdown",
   "metadata": {},
   "source": [
    "## Stemming"
   ]
  },
  {
   "cell_type": "raw",
   "metadata": {},
   "source": [
    "There are quite good grammary stemmers in nltk or sklearn packages, but for english only. For polish articles we can use a dictionary stemmer, Morfologik. Implementation of this stemmer is not obvious. With a dictionary tool in many cases we must decide, which one from many meanings fits best. My proposition is rather simple. \n",
    "Article's subject in many cases may determine the proper meaning of particular word. For example, Morfologik gives such result for the word \"latach\":\n",
    "('latach', {'lato': ['subst:pl:loc:n2'], 'rok': ['subst:pl:loc:m3']})\n",
    "\n",
    "In articles about taxes it will be: '\"rok\" rather then \"lato\". \n",
    "\n",
    "One can assume that the word \"rok\" should occur more often then the word \"lato\" in the whole corpus of words for this site. First I try to match words with one-to-one relationship putting down for this moment one-to-many matching."
   ]
  },
  {
   "cell_type": "code",
   "execution_count": 16,
   "metadata": {
    "collapsed": false
   },
   "outputs": [],
   "source": [
    "#stopwords = nltk.corpus.stopwords.words('english')\n",
    "stopwords = pd.read_csv(\"stopwords-pl.txt\", header=None)"
   ]
  },
  {
   "cell_type": "code",
   "execution_count": 17,
   "metadata": {
    "collapsed": false
   },
   "outputs": [],
   "source": [
    "type(stopwords)\n",
    "stopwords = stopwords.iloc[:,0]\n",
    "stopwords = stopwords.tolist()"
   ]
  },
  {
   "cell_type": "code",
   "execution_count": null,
   "metadata": {
    "collapsed": false
   },
   "outputs": [],
   "source": []
  },
  {
   "cell_type": "code",
   "execution_count": 18,
   "metadata": {
    "collapsed": false
   },
   "outputs": [],
   "source": [
    "parser = ListParser()\n",
    "stemmer = Morfologik()\n",
    "articles = [a.lower() for a in articles]\n",
    "articles = [re.sub(\"\\d+\", \"\", str(a)) for a in articles]\n",
    "articles = [nltk.word_tokenize(a, language='polish') for a in articles]\n",
    "articles = [[w for w in a if w not in stopwords] for a in articles]\n",
    "\n",
    "\n",
    "     "
   ]
  },
  {
   "cell_type": "code",
   "execution_count": 19,
   "metadata": {
    "collapsed": true
   },
   "outputs": [],
   "source": [
    "from collections import Counter\n",
    "def counting(set):\n",
    "    c= Counter(set)\n",
    "    aCounted={}\n",
    "    for i in set:\n",
    "        if i not in aCounted:\n",
    "            aCounted[i]=c[i]\n",
    "\n",
    "    sort_count = sorted(aCounted.items(), key=lambda item: item[1], reverse=True)\n",
    "\n",
    "    return pd.DataFrame(sort_count)\n"
   ]
  },
  {
   "cell_type": "code",
   "execution_count": null,
   "metadata": {
    "collapsed": false
   },
   "outputs": [],
   "source": [
    "      "
   ]
  },
  {
   "cell_type": "code",
   "execution_count": 20,
   "metadata": {
    "collapsed": false
   },
   "outputs": [],
   "source": [
    "articles_stemmed = [stemmer.stem(a, parser) for a in articles]"
   ]
  },
  {
   "cell_type": "code",
   "execution_count": 97,
   "metadata": {
    "collapsed": false
   },
   "outputs": [],
   "source": [
    "#stemmming is a long process. If something goes wrong, it'll be better to have a copy :)\n",
    "x_l=deepcopy(articles_stemmed)"
   ]
  },
  {
   "cell_type": "code",
   "execution_count": 39,
   "metadata": {
    "collapsed": false,
    "scrolled": false
   },
   "outputs": [],
   "source": [
    "#import string\n",
    "#corpo = str(\" \".join([\" \".join(a) for a in articles]))\n",
    "#corpo"
   ]
  },
  {
   "cell_type": "code",
   "execution_count": 40,
   "metadata": {
    "collapsed": false
   },
   "outputs": [],
   "source": [
    "#x=stemmer.stem(corpo, parser)\n",
    "#amb=[] #ambiguous\n",
    "#unamb=[] #unambiguous\n"
   ]
  },
  {
   "cell_type": "code",
   "execution_count": null,
   "metadata": {
    "collapsed": true
   },
   "outputs": [],
   "source": [
    "       "
   ]
  },
  {
   "cell_type": "code",
   "execution_count": 98,
   "metadata": {
    "collapsed": true
   },
   "outputs": [],
   "source": [
    "unamb_corpora=[]\n",
    "for a in x_l:\n",
    "    unamb=[]\n",
    "    for i in range(len(a)):\n",
    "        if len(a[i][1])==1:\n",
    "            unamb+=a[i][1]\n",
    "        elif len(a[i][1])==0:\n",
    "            unamb+=a[i][0]\n",
    "    unamb_corpora+=unamb #full match for all corpora      "
   ]
  },
  {
   "cell_type": "markdown",
   "metadata": {},
   "source": [
    "## Dividing set for ambigous and nonambigous words"
   ]
  },
  {
   "cell_type": "code",
   "execution_count": 99,
   "metadata": {
    "collapsed": false
   },
   "outputs": [
    {
     "ename": "KeyboardInterrupt",
     "evalue": "",
     "output_type": "error",
     "traceback": [
      "\u001b[0;31m---------------------------------------------------------------------------\u001b[0m",
      "\u001b[0;31mKeyboardInterrupt\u001b[0m                         Traceback (most recent call last)",
      "\u001b[0;32m<ipython-input-99-f5870efb8441>\u001b[0m in \u001b[0;36m<module>\u001b[0;34m()\u001b[0m\n\u001b[1;32m     27\u001b[0m                 \u001b[0;31m#print(amb_dict[i][j])\u001b[0m\u001b[0;34m\u001b[0m\u001b[0;34m\u001b[0m\u001b[0m\n\u001b[1;32m     28\u001b[0m                 \u001b[0munamb\u001b[0m\u001b[0;34m.\u001b[0m\u001b[0mappend\u001b[0m\u001b[0;34m(\u001b[0m\u001b[0mamb_dict\u001b[0m\u001b[0;34m[\u001b[0m\u001b[0mi\u001b[0m\u001b[0;34m]\u001b[0m\u001b[0;34m[\u001b[0m\u001b[0mj\u001b[0m\u001b[0;34m]\u001b[0m\u001b[0;34m)\u001b[0m\u001b[0;34m\u001b[0m\u001b[0m\n\u001b[0;32m---> 29\u001b[0;31m             \u001b[0;32melif\u001b[0m \u001b[0mamb_dict\u001b[0m\u001b[0;34m[\u001b[0m\u001b[0mi\u001b[0m\u001b[0;34m]\u001b[0m\u001b[0;34m[\u001b[0m\u001b[0mj\u001b[0m\u001b[0;34m]\u001b[0m \u001b[0;32min\u001b[0m \u001b[0munamb_corpora\u001b[0m\u001b[0;34m:\u001b[0m\u001b[0;34m\u001b[0m\u001b[0m\n\u001b[0m\u001b[1;32m     30\u001b[0m                 \u001b[0;31m#print(amb_dict[i][j])\u001b[0m\u001b[0;34m\u001b[0m\u001b[0;34m\u001b[0m\u001b[0m\n\u001b[1;32m     31\u001b[0m                 \u001b[0munamb\u001b[0m\u001b[0;34m.\u001b[0m\u001b[0mappend\u001b[0m\u001b[0;34m(\u001b[0m\u001b[0mamb_dict\u001b[0m\u001b[0;34m[\u001b[0m\u001b[0mi\u001b[0m\u001b[0;34m]\u001b[0m\u001b[0;34m[\u001b[0m\u001b[0mj\u001b[0m\u001b[0;34m]\u001b[0m\u001b[0;34m)\u001b[0m\u001b[0;34m\u001b[0m\u001b[0m\n",
      "\u001b[0;31mKeyboardInterrupt\u001b[0m: "
     ]
    }
   ],
   "source": [
    "for a in x_l:\n",
    "    stemmed_arts=[]\n",
    "    amb=[] #ambiguous\n",
    "    unamb=[] #unambiguous\n",
    "    for i in range(len(a)):\n",
    "    \n",
    "        if len(a[i][1])==1:\n",
    "            unamb+=a[i][1]\n",
    "        elif len(a[i][1])==0:\n",
    "            unamb+=a[i][0]\n",
    "        else:\n",
    "            amb.append(a[i]) \n",
    "    #unamb_corpora+=unamb #full match for all corpora      \n",
    "    amb_dict={} #making dictionary with values in a list\n",
    "\n",
    "    for i in amb:\n",
    "        amb_dict[i[0]]=[]\n",
    "        for j in i[1]:\n",
    "            amb_dict[i[0]].append(j)\n",
    "    df = counting(unamb)   \n",
    "    #df_corpora =counting(unamb_corpora)\n",
    "    \n",
    "    document_other=[] #collecting remaining words, without a counterpart in unambiguous\n",
    "    for i in amb_dict:\n",
    "        for j in range(len(amb_dict[i])):\n",
    "            if amb_dict[i][j] in unamb:\n",
    "                #print(amb_dict[i][j])\n",
    "                unamb.append(amb_dict[i][j])\n",
    "            elif amb_dict[i][j] in unamb_corpora:\n",
    "                #print(amb_dict[i][j])\n",
    "                unamb.append(amb_dict[i][j])\n",
    "        else:\n",
    "            document_other.append(amb_dict[i][0]) #when we haven't proper assignment\n",
    "\n",
    "    document_final=unamb+document_other\n",
    "        #pd_document = counting(document_final)\n",
    "    stemmed_arts.append(document_final)"
   ]
  },
  {
   "cell_type": "code",
   "execution_count": null,
   "metadata": {
    "collapsed": false
   },
   "outputs": [],
   "source": [
    "#df_corpora[0]\n",
    "for i in stemmed_arts:\n",
    "    print(\"płatnica\" in i)\n"
   ]
  },
  {
   "cell_type": "raw",
   "metadata": {
    "collapsed": false
   },
   "source": [
    "for a in x_l:\n",
    "    stemmed_arts=[]\n",
    "    amb=[] #ambiguous\n",
    "    unamb=[] #unambiguous\n",
    "    unamb_corpora=[]\n",
    "    for i in range(len(a)):\n",
    "    \n",
    "        if len(a[i][1])==1:\n",
    "            unamb+=a[i][1]\n",
    "        elif len(a[i][1])==0:\n",
    "            unamb+=a[i][0]\n",
    "        else:\n",
    "            amb.append(a[i]) \n",
    "    unamb_corpora+=unamb #full match for all corpora      \n",
    "    amb_dict={} #making dictionary with values in a list\n",
    "\n",
    "    for i in amb:\n",
    "        amb_dict[i[0]]=[]\n",
    "        for j in i[1]:\n",
    "            amb_dict[i[0]].append(j)\n",
    "    df = counting(unamb)   \n",
    "    df_corpora =counting(unamb_corpora)\n",
    "    document_other=[] #collecting remaining words, without a counterpart in unambiguous\n",
    "    for i in amb_dict:\n",
    "        for j in range(len(amb_dict[i])):\n",
    "            for h in df[0]:\n",
    "                if amb_dict[i][j] ==h:\n",
    "                    #print(unamb_dict[i][j])\n",
    "                    unamb.append(amb_dict[i][j])\n",
    "            else:\n",
    "                for h in df_corpora[0]:\n",
    "                    if amb_dict[i][j]==h:\n",
    "                        unamb.append(amb_dict[i][j])\n",
    "        else:\n",
    "            document_other.append(amb_dict[i][0]) #when we haven't proper assignment\n",
    "\n",
    "        document_final=unamb+document_other\n",
    "        #pd_document = counting(document_final)\n",
    "        stemmed_arts.append(document_final)"
   ]
  },
  {
   "cell_type": "code",
   "execution_count": 26,
   "metadata": {
    "collapsed": false
   },
   "outputs": [],
   "source": [
    "#stemmed_arts2 = [re.sub(\"\\s\\w\\s\", \" \",str(a)) for a in stemmed_arts]"
   ]
  },
  {
   "cell_type": "code",
   "execution_count": 45,
   "metadata": {
    "collapsed": false
   },
   "outputs": [
    {
     "data": {
      "text/html": [
       "<div>\n",
       "<table border=\"1\" class=\"dataframe\">\n",
       "  <thead>\n",
       "    <tr style=\"text-align: right;\">\n",
       "      <th></th>\n",
       "      <th>0</th>\n",
       "      <th>1</th>\n",
       "    </tr>\n",
       "  </thead>\n",
       "  <tbody>\n",
       "    <tr>\n",
       "      <th>0</th>\n",
       "      <td>podatkowy</td>\n",
       "      <td>10</td>\n",
       "    </tr>\n",
       "    <tr>\n",
       "      <th>1</th>\n",
       "      <td>złoty</td>\n",
       "      <td>10</td>\n",
       "    </tr>\n",
       "    <tr>\n",
       "      <th>2</th>\n",
       "      <td>pracownik</td>\n",
       "      <td>9</td>\n",
       "    </tr>\n",
       "    <tr>\n",
       "      <th>3</th>\n",
       "      <td>zaliczka</td>\n",
       "      <td>9</td>\n",
       "    </tr>\n",
       "    <tr>\n",
       "      <th>4</th>\n",
       "      <td>podatek</td>\n",
       "      <td>9</td>\n",
       "    </tr>\n",
       "    <tr>\n",
       "      <th>5</th>\n",
       "      <td>dochód</td>\n",
       "      <td>9</td>\n",
       "    </tr>\n",
       "    <tr>\n",
       "      <th>6</th>\n",
       "      <td>pracodawca</td>\n",
       "      <td>6</td>\n",
       "    </tr>\n",
       "    <tr>\n",
       "      <th>7</th>\n",
       "      <td>kwota</td>\n",
       "      <td>6</td>\n",
       "    </tr>\n",
       "    <tr>\n",
       "      <th>8</th>\n",
       "      <td>miesiąc</td>\n",
       "      <td>6</td>\n",
       "    </tr>\n",
       "    <tr>\n",
       "      <th>9</th>\n",
       "      <td>praca</td>\n",
       "      <td>5</td>\n",
       "    </tr>\n",
       "    <tr>\n",
       "      <th>10</th>\n",
       "      <td>uzyskać</td>\n",
       "      <td>5</td>\n",
       "    </tr>\n",
       "    <tr>\n",
       "      <th>11</th>\n",
       "      <td>z</td>\n",
       "      <td>5</td>\n",
       "    </tr>\n",
       "    <tr>\n",
       "      <th>12</th>\n",
       "      <td>przedział</td>\n",
       "      <td>5</td>\n",
       "    </tr>\n",
       "    <tr>\n",
       "      <th>13</th>\n",
       "      <td>t</td>\n",
       "      <td>4</td>\n",
       "    </tr>\n",
       "    <tr>\n",
       "      <th>14</th>\n",
       "      <td>o</td>\n",
       "      <td>4</td>\n",
       "    </tr>\n",
       "    <tr>\n",
       "      <th>15</th>\n",
       "      <td>podatnik</td>\n",
       "      <td>4</td>\n",
       "    </tr>\n",
       "    <tr>\n",
       "      <th>16</th>\n",
       "      <td>e</td>\n",
       "      <td>4</td>\n",
       "    </tr>\n",
       "    <tr>\n",
       "      <th>17</th>\n",
       "      <td>komentarz</td>\n",
       "      <td>4</td>\n",
       "    </tr>\n",
       "    <tr>\n",
       "      <th>18</th>\n",
       "      <td>poinformować</td>\n",
       "      <td>3</td>\n",
       "    </tr>\n",
       "    <tr>\n",
       "      <th>19</th>\n",
       "      <td>c</td>\n",
       "      <td>3</td>\n",
       "    </tr>\n",
       "    <tr>\n",
       "      <th>20</th>\n",
       "      <td>a</td>\n",
       "      <td>3</td>\n",
       "    </tr>\n",
       "    <tr>\n",
       "      <th>21</th>\n",
       "      <td>związek</td>\n",
       "      <td>3</td>\n",
       "    </tr>\n",
       "    <tr>\n",
       "      <th>22</th>\n",
       "      <td>roczny</td>\n",
       "      <td>3</td>\n",
       "    </tr>\n",
       "    <tr>\n",
       "      <th>23</th>\n",
       "      <td>’</td>\n",
       "      <td>3</td>\n",
       "    </tr>\n",
       "    <tr>\n",
       "      <th>24</th>\n",
       "      <td>stosować</td>\n",
       "      <td>3</td>\n",
       "    </tr>\n",
       "    <tr>\n",
       "      <th>25</th>\n",
       "      <td>górny</td>\n",
       "      <td>3</td>\n",
       "    </tr>\n",
       "    <tr>\n",
       "      <th>26</th>\n",
       "      <td>granica</td>\n",
       "      <td>3</td>\n",
       "    </tr>\n",
       "    <tr>\n",
       "      <th>27</th>\n",
       "      <td>płatnik</td>\n",
       "      <td>3</td>\n",
       "    </tr>\n",
       "    <tr>\n",
       "      <th>28</th>\n",
       "      <td>dziecko</td>\n",
       "      <td>3</td>\n",
       "    </tr>\n",
       "    <tr>\n",
       "      <th>29</th>\n",
       "      <td>i</td>\n",
       "      <td>3</td>\n",
       "    </tr>\n",
       "    <tr>\n",
       "      <th>...</th>\n",
       "      <td>...</td>\n",
       "      <td>...</td>\n",
       "    </tr>\n",
       "    <tr>\n",
       "      <th>125</th>\n",
       "      <td>pobierać</td>\n",
       "      <td>1</td>\n",
       "    </tr>\n",
       "    <tr>\n",
       "      <th>126</th>\n",
       "      <td>powyższy</td>\n",
       "      <td>1</td>\n",
       "    </tr>\n",
       "    <tr>\n",
       "      <th>127</th>\n",
       "      <td>wysokość</td>\n",
       "      <td>1</td>\n",
       "    </tr>\n",
       "    <tr>\n",
       "      <th>128</th>\n",
       "      <td>począć</td>\n",
       "      <td>1</td>\n",
       "    </tr>\n",
       "    <tr>\n",
       "      <th>129</th>\n",
       "      <td>zostać</td>\n",
       "      <td>1</td>\n",
       "    </tr>\n",
       "    <tr>\n",
       "      <th>130</th>\n",
       "      <td>p</td>\n",
       "      <td>1</td>\n",
       "    </tr>\n",
       "    <tr>\n",
       "      <th>131</th>\n",
       "      <td>plac</td>\n",
       "      <td>1</td>\n",
       "    </tr>\n",
       "    <tr>\n",
       "      <th>132</th>\n",
       "      <td>powrót</td>\n",
       "      <td>1</td>\n",
       "    </tr>\n",
       "    <tr>\n",
       "      <th>133</th>\n",
       "      <td>n</td>\n",
       "      <td>1</td>\n",
       "    </tr>\n",
       "    <tr>\n",
       "      <th>134</th>\n",
       "      <td>ś</td>\n",
       "      <td>1</td>\n",
       "    </tr>\n",
       "    <tr>\n",
       "      <th>135</th>\n",
       "      <td>program</td>\n",
       "      <td>1</td>\n",
       "    </tr>\n",
       "    <tr>\n",
       "      <th>136</th>\n",
       "      <td>uruchomić</td>\n",
       "      <td>1</td>\n",
       "    </tr>\n",
       "    <tr>\n",
       "      <th>137</th>\n",
       "      <td>online</td>\n",
       "      <td>1</td>\n",
       "    </tr>\n",
       "    <tr>\n",
       "      <th>138</th>\n",
       "      <td>dodać</td>\n",
       "      <td>1</td>\n",
       "    </tr>\n",
       "    <tr>\n",
       "      <th>139</th>\n",
       "      <td>autor</td>\n",
       "      <td>1</td>\n",
       "    </tr>\n",
       "    <tr>\n",
       "      <th>140</th>\n",
       "      <td>temat</td>\n",
       "      <td>1</td>\n",
       "    </tr>\n",
       "    <tr>\n",
       "      <th>141</th>\n",
       "      <td>treść</td>\n",
       "      <td>1</td>\n",
       "    </tr>\n",
       "    <tr>\n",
       "      <th>142</th>\n",
       "      <td>obniżyć</td>\n",
       "      <td>1</td>\n",
       "    </tr>\n",
       "    <tr>\n",
       "      <th>143</th>\n",
       "      <td>aktualny</td>\n",
       "      <td>1</td>\n",
       "    </tr>\n",
       "    <tr>\n",
       "      <th>144</th>\n",
       "      <td>ulga</td>\n",
       "      <td>1</td>\n",
       "    </tr>\n",
       "    <tr>\n",
       "      <th>145</th>\n",
       "      <td>termin</td>\n",
       "      <td>1</td>\n",
       "    </tr>\n",
       "    <tr>\n",
       "      <th>146</th>\n",
       "      <td>darmo</td>\n",
       "      <td>1</td>\n",
       "    </tr>\n",
       "    <tr>\n",
       "      <th>147</th>\n",
       "      <td>przejść</td>\n",
       "      <td>1</td>\n",
       "    </tr>\n",
       "    <tr>\n",
       "      <th>148</th>\n",
       "      <td>baza</td>\n",
       "      <td>1</td>\n",
       "    </tr>\n",
       "    <tr>\n",
       "      <th>149</th>\n",
       "      <td>uzysk</td>\n",
       "      <td>1</td>\n",
       "    </tr>\n",
       "    <tr>\n",
       "      <th>150</th>\n",
       "      <td>dwa</td>\n",
       "      <td>1</td>\n",
       "    </tr>\n",
       "    <tr>\n",
       "      <th>151</th>\n",
       "      <td>spółka</td>\n",
       "      <td>1</td>\n",
       "    </tr>\n",
       "    <tr>\n",
       "      <th>152</th>\n",
       "      <td>dzieło</td>\n",
       "      <td>1</td>\n",
       "    </tr>\n",
       "    <tr>\n",
       "      <th>153</th>\n",
       "      <td>dochodowy</td>\n",
       "      <td>1</td>\n",
       "    </tr>\n",
       "    <tr>\n",
       "      <th>154</th>\n",
       "      <td>aktualności</td>\n",
       "      <td>1</td>\n",
       "    </tr>\n",
       "  </tbody>\n",
       "</table>\n",
       "<p>155 rows × 2 columns</p>\n",
       "</div>"
      ],
      "text/plain": [
       "                0   1\n",
       "0       podatkowy  10\n",
       "1           złoty  10\n",
       "2       pracownik   9\n",
       "3        zaliczka   9\n",
       "4         podatek   9\n",
       "5          dochód   9\n",
       "6      pracodawca   6\n",
       "7           kwota   6\n",
       "8         miesiąc   6\n",
       "9           praca   5\n",
       "10        uzyskać   5\n",
       "11              z   5\n",
       "12      przedział   5\n",
       "13              t   4\n",
       "14              o   4\n",
       "15       podatnik   4\n",
       "16              e   4\n",
       "17      komentarz   4\n",
       "18   poinformować   3\n",
       "19              c   3\n",
       "20              a   3\n",
       "21        związek   3\n",
       "22         roczny   3\n",
       "23              ’   3\n",
       "24       stosować   3\n",
       "25          górny   3\n",
       "26        granica   3\n",
       "27        płatnik   3\n",
       "28        dziecko   3\n",
       "29              i   3\n",
       "..            ...  ..\n",
       "125      pobierać   1\n",
       "126      powyższy   1\n",
       "127      wysokość   1\n",
       "128        począć   1\n",
       "129        zostać   1\n",
       "130             p   1\n",
       "131          plac   1\n",
       "132        powrót   1\n",
       "133             n   1\n",
       "134             ś   1\n",
       "135       program   1\n",
       "136     uruchomić   1\n",
       "137        online   1\n",
       "138         dodać   1\n",
       "139         autor   1\n",
       "140         temat   1\n",
       "141         treść   1\n",
       "142       obniżyć   1\n",
       "143      aktualny   1\n",
       "144          ulga   1\n",
       "145        termin   1\n",
       "146         darmo   1\n",
       "147       przejść   1\n",
       "148          baza   1\n",
       "149         uzysk   1\n",
       "150           dwa   1\n",
       "151        spółka   1\n",
       "152        dzieło   1\n",
       "153     dochodowy   1\n",
       "154   aktualności   1\n",
       "\n",
       "[155 rows x 2 columns]"
      ]
     },
     "execution_count": 45,
     "metadata": {},
     "output_type": "execute_result"
    }
   ],
   "source": [
    "counting(stemmed_arts[0])"
   ]
  },
  {
   "cell_type": "code",
   "execution_count": 66,
   "metadata": {
    "collapsed": false
   },
   "outputs": [
    {
     "data": {
      "text/plain": [
       "[('aktualności',\n",
       "  {'aktualności': ['subst:pl:acc:p3+subst:pl:gen:p3+subst:pl:nom:p3+subst:pl:voc:p3'],\n",
       "   'aktualność': ['subst:pl:acc:f+subst:pl:gen:f+subst:pl:nom:f+subst:pl:voc:f+subst:sg:dat:f+subst:sg:gen:f+subst:sg:loc:f+subst:sg:voc:f']}),\n",
       " ('kosztów', {'koszt': ['subst:pl:gen:m3'], 'koszty': ['subst:pl:gen:p3']}),\n",
       " ('koszty',\n",
       "  {'koszt': ['subst:pl:acc:m3+subst:pl:nom:m3+subst:pl:voc:m3'],\n",
       "   'koszty': ['subst:pl:acc:p3+subst:pl:nom:p3+subst:pl:voc:p3']}),\n",
       " ('oświadczenie',\n",
       "  {'oświadczenie': ['subst:sg:acc:n2+subst:sg:nom:n2+subst:sg:voc:n2'],\n",
       "   'oświadczyć': ['ger:sg:nom.acc:n2:perf:aff:refl.nonrefl']}),\n",
       " ('oświadczenia',\n",
       "  {'oświadczenie': ['subst:pl:acc:n2+subst:pl:nom:n2+subst:pl:voc:n2+subst:sg:gen:n2'],\n",
       "   'oświadczyć': ['ger:sg:gen:n2:perf:aff:refl.nonrefl']}),\n",
       " ('kosztów', {'koszt': ['subst:pl:gen:m3'], 'koszty': ['subst:pl:gen:p3']}),\n",
       " ('zawarcia',\n",
       "  {'zawarcie': ['subst:pl:acc:n2+subst:pl:nom:n2+subst:pl:voc:n2+subst:sg:gen:n2'],\n",
       "   'zawrzeć': ['ger:sg:gen:n2:perf:aff:refl.nonrefl']}),\n",
       " ('umowy',\n",
       "  {'umowa': ['subst:pl:acc:f+subst:pl:nom:f+subst:pl:voc:f+subst:sg:gen:f'],\n",
       "   'umowy': ['adj:sg:acc:m3:pos+adj:sg:nom.voc:m1.m2.m3:pos']}),\n",
       " ('obowiązujących',\n",
       "  {'obowiązujący': ['adj:pl:acc:m1.p1:pos+adj:pl:gen:m1.m2.m3.f.n1.n2.p1.p2.p3:pos+adj:pl:loc:m1.m2.m3.f.n1.n2.p1.p2.p3:pos'],\n",
       "   'obowiązywać': ['pact:pl:acc:m1.p1:imperf:aff:nonrefl+pact:pl:acc:m1.p1:imperf:aff:refl.nonrefl+pact:pl:gen.loc:m1.m2.m3.f.n1.n2.p1.p2.p3:imperf:aff:nonrefl+pact:pl:gen.loc:m1.m2.m3.f.n1.n2.p1.p2.p3:imperf:aff:refl.nonrefl']}),\n",
       " ('stosowanych',\n",
       "  {'stosowany': ['adj:pl:acc:m1.p1:pos+adj:pl:gen:m1.m2.m3.f.n1.n2.p1.p2.p3:pos+adj:pl:loc:m1.m2.m3.f.n1.n2.p1.p2.p3:pos'],\n",
       "   'stosować': ['ppas:pl:acc:m1.p1:imperf:aff+ppas:pl:gen.loc:m1.m2.m3.f.n1.n2.p1.p2.p3:imperf:aff']}),\n",
       " ('kosztach', {'koszt': ['subst:pl:loc:m3'], 'koszty': ['subst:pl:loc:p3']}),\n",
       " ('przychodu',\n",
       "  {'przychod': ['subst:sg:gen:m3'], 'przychód': ['subst:sg:gen:m3']}),\n",
       " ('zastosowaniu',\n",
       "  {'zastosowanie': ['subst:sg:dat:n2+subst:sg:loc:n2'],\n",
       "   'zastosować': ['ger:sg:dat.loc:n2:perf:aff:refl.nonrefl']}),\n",
       " ('kosztów', {'koszt': ['subst:pl:gen:m3'], 'koszty': ['subst:pl:gen:p3']}),\n",
       " ('koszty',\n",
       "  {'koszt': ['subst:pl:acc:m3+subst:pl:nom:m3+subst:pl:voc:m3'],\n",
       "   'koszty': ['subst:pl:acc:p3+subst:pl:nom:p3+subst:pl:voc:p3']}),\n",
       " ('gr', {'grecki': ['brev:pun'], 'grosz': ['brev:npun']}),\n",
       " ('umowy',\n",
       "  {'umowa': ['subst:pl:acc:f+subst:pl:nom:f+subst:pl:voc:f+subst:sg:gen:f'],\n",
       "   'umowy': ['adj:sg:acc:m3:pos+adj:sg:nom.voc:m1.m2.m3:pos']}),\n",
       " ('gr', {'grecki': ['brev:pun'], 'grosz': ['brev:npun']}),\n",
       " ('umów',\n",
       "  {'um': ['subst:pl:gen:m3'],\n",
       "   'umowa': ['subst:pl:gen:f'],\n",
       "   'umówić': ['verb:impt:sg:sec:perf:refl.nonrefl']}),\n",
       " ('gr', {'grecki': ['brev:pun'], 'grosz': ['brev:npun']}),\n",
       " ('gr', {'grecki': ['brev:pun'], 'grosz': ['brev:npun']}),\n",
       " ('umowy',\n",
       "  {'umowa': ['subst:pl:acc:f+subst:pl:nom:f+subst:pl:voc:f+subst:sg:gen:f'],\n",
       "   'umowy': ['adj:sg:acc:m3:pos+adj:sg:nom.voc:m1.m2.m3:pos']}),\n",
       " ('gr', {'grecki': ['brev:pun'], 'grosz': ['brev:npun']}),\n",
       " ('umów',\n",
       "  {'um': ['subst:pl:gen:m3'],\n",
       "   'umowa': ['subst:pl:gen:f'],\n",
       "   'umówić': ['verb:impt:sg:sec:perf:refl.nonrefl']}),\n",
       " ('gr', {'grecki': ['brev:pun'], 'grosz': ['brev:npun']}),\n",
       " ('gr', {'grecki': ['brev:pun'], 'grosz': ['brev:npun']}),\n",
       " ('koszty',\n",
       "  {'koszt': ['subst:pl:acc:m3+subst:pl:nom:m3+subst:pl:voc:m3'],\n",
       "   'koszty': ['subst:pl:acc:p3+subst:pl:nom:p3+subst:pl:voc:p3']}),\n",
       " ('przychodu',\n",
       "  {'przychod': ['subst:sg:gen:m3'], 'przychód': ['subst:sg:gen:m3']}),\n",
       " ('oświadczenia',\n",
       "  {'oświadczenie': ['subst:pl:acc:n2+subst:pl:nom:n2+subst:pl:voc:n2+subst:sg:gen:n2'],\n",
       "   'oświadczyć': ['ger:sg:gen:n2:perf:aff:refl.nonrefl']}),\n",
       " ('kosztów', {'koszt': ['subst:pl:gen:m3'], 'koszty': ['subst:pl:gen:p3']}),\n",
       " ('pierwszego',\n",
       "  {'pierwsze': ['subst:sg:gen:n2'],\n",
       "   'pierwszy': ['adj:sg:acc:m1.m2:pos+adj:sg:gen:m1.m2.m3.n1.n2:pos+subst:sg:gen:m3']}),\n",
       " ('skali',\n",
       "  {'skala': ['subst:pl:gen:f+subst:sg:dat:f+subst:sg:gen:f+subst:sg:loc:f'],\n",
       "   'skalić': ['verb:fin:sg:ter:imperf:refl.nonrefl']}),\n",
       " ('koszty',\n",
       "  {'koszt': ['subst:pl:acc:m3+subst:pl:nom:m3+subst:pl:voc:m3'],\n",
       "   'koszty': ['subst:pl:acc:p3+subst:pl:nom:p3+subst:pl:voc:p3']}),\n",
       " ('przychodów',\n",
       "  {'przychod': ['subst:pl:gen:m3'], 'przychód': ['subst:pl:gen:m3']}),\n",
       " ('złoży',\n",
       "  {'złoże': ['subst:pl:gen:n2'],\n",
       "   'złożyć': ['verb:fin:sg:ter:perf:refl.nonrefl']}),\n",
       " ('oświadczenie',\n",
       "  {'oświadczenie': ['subst:sg:acc:n2+subst:sg:nom:n2+subst:sg:voc:n2'],\n",
       "   'oświadczyć': ['ger:sg:nom.acc:n2:perf:aff:refl.nonrefl']}),\n",
       " ('spełnieniu',\n",
       "  {'spełnienie': ['subst:sg:dat:n2+subst:sg:loc:n2'],\n",
       "   'spełnić': ['ger:sg:dat.loc:n2:perf:aff:refl.nonrefl']}),\n",
       " ('określonego',\n",
       "  {'określić': ['ppas:sg:acc:m1.m2:perf:aff+ppas:sg:gen:m1.m2.m3.n1.n2:perf:aff'],\n",
       "   'określony': ['adj:sg:acc:m1.m2:pos+adj:sg:gen:m1.m2.m3.n1.n2:pos']}),\n",
       " ('zatrudnionego',\n",
       "  {'zatrudniony': ['adj:sg:acc:m1.m2:pos+adj:sg:gen:m1.m2.m3.n1.n2:pos+subst:sg:acc:m1+subst:sg:gen:m1'],\n",
       "   'zatrudnić': ['ppas:sg:acc:m1.m2:perf:aff+ppas:sg:gen:m1.m2.m3.n1.n2:perf:aff']}),\n",
       " ('składanie',\n",
       "  {'składanie': ['subst:sg:acc:n2+subst:sg:nom:n2+subst:sg:voc:n2'],\n",
       "   'składać': ['ger:sg:nom.acc:n2:imperf:aff:refl.nonrefl']}),\n",
       " ('małżonków',\n",
       "  {'małżonek': ['subst:pl:acc:m1+subst:pl:gen:m1'],\n",
       "   'małżonkowie': ['subst:pl:acc:p1+subst:pl:gen:p1']}),\n",
       " ('złoży',\n",
       "  {'złoże': ['subst:pl:gen:n2'],\n",
       "   'złożyć': ['verb:fin:sg:ter:perf:refl.nonrefl']}),\n",
       " ('oświadczenie',\n",
       "  {'oświadczenie': ['subst:sg:acc:n2+subst:sg:nom:n2+subst:sg:voc:n2'],\n",
       "   'oświadczyć': ['ger:sg:nom.acc:n2:perf:aff:refl.nonrefl']}),\n",
       " ('dany',\n",
       "  {'dan': ['subst:pl:acc:m3+subst:pl:nom:m3+subst:pl:voc:m3'],\n",
       "   'dany': ['adj:sg:acc:m3:pos+adj:sg:nom.voc:m1.m2.m3:pos'],\n",
       "   'dać': ['ppas:sg:acc:m3:perf:aff+ppas:sg:nom.voc:m1.m2.m3:perf:aff']}),\n",
       " ('łącznie',\n",
       "  {'łączeń': ['subst:pl:acc:m3+subst:pl:nom:m3+subst:pl:voc:m3'],\n",
       "   'łącznia': ['subst:pl:acc:f+subst:pl:nom:f+subst:pl:voc:f'],\n",
       "   'łącznie': ['adv:pos']}),\n",
       " ('bądź', {'być': ['verb:impt:sg:sec:imperf:nonrefl'], 'bądź': ['conj+qub']}),\n",
       " ('samotnie',\n",
       "  {'samotnia': ['subst:pl:acc:f+subst:pl:nom:f+subst:pl:voc:f'],\n",
       "   'samotnie': ['adv:pos']}),\n",
       " ('określone',\n",
       "  {'określić': ['ppas:pl:nom.acc.voc:m2.m3.f.n1.n2.p2.p3:perf:aff+ppas:sg:nom.acc.voc:n1.n2:perf:aff'],\n",
       "   'określony': ['adj:pl:acc:m2.m3.f.n1.n2.p2.p3:pos+adj:pl:nom.voc:m2.m3.f.n1.n2.p2.p3:pos+adj:sg:acc:n1.n2:pos+adj:sg:nom.voc:n1.n2:pos']}),\n",
       " ('oświadczeniu',\n",
       "  {'oświadczenie': ['subst:sg:dat:n2+subst:sg:loc:n2'],\n",
       "   'oświadczyć': ['ger:sg:dat.loc:n2:perf:aff:refl.nonrefl']}),\n",
       " ('pierwszego',\n",
       "  {'pierwsze': ['subst:sg:gen:n2'],\n",
       "   'pierwszy': ['adj:sg:acc:m1.m2:pos+adj:sg:gen:m1.m2.m3.n1.n2:pos+subst:sg:gen:m3']}),\n",
       " ('skali',\n",
       "  {'skala': ['subst:pl:gen:f+subst:sg:dat:f+subst:sg:gen:f+subst:sg:loc:f'],\n",
       "   'skalić': ['verb:fin:sg:ter:imperf:refl.nonrefl']}),\n",
       " ('małżonek',\n",
       "  {'małżonek': ['subst:sg:nom:m1'], 'małżonka': ['subst:pl:gen:f']}),\n",
       " ('danym',\n",
       "  {'dana': ['subst:pl:dat:f'],\n",
       "   'dane': ['subst:pl:dat:p3'],\n",
       "   'dany': ['adj:pl:dat:m1.m2.m3.f.n1.n2.p1.p2.p3:pos+adj:sg:inst:m1.m2.m3.n1.n2:pos+adj:sg:loc:m1.m2.m3.n1.n2:pos'],\n",
       "   'dać': ['ppas:pl:dat:m1.m2.m3.f.n1.n2.p1.p2.p3:perf:aff+ppas:sg:inst.loc:m1.m2.m3.n1.n2:perf:aff']}),\n",
       " ('określonej',\n",
       "  {'określić': ['ppas:sg:gen.dat.loc:f:perf:aff'],\n",
       "   'określony': ['adj:sg:dat:f:pos+adj:sg:gen:f:pos+adj:sg:loc:f:pos']}),\n",
       " ('pierwszym',\n",
       "  {'pierwsza': ['subst:pl:dat:f'],\n",
       "   'pierwsze': ['subst:pl:dat:n2+subst:sg:inst:n2+subst:sg:loc:n2'],\n",
       "   'pierwszy': ['adj:pl:dat:m1.m2.m3.f.n1.n2.p1.p2.p3:pos+adj:sg:inst:m1.m2.m3.n1.n2:pos+adj:sg:loc:m1.m2.m3.n1.n2:pos+subst:pl:dat:m3+subst:sg:inst:m3+subst:sg:loc:m3']}),\n",
       " ('skali',\n",
       "  {'skala': ['subst:pl:gen:f+subst:sg:dat:f+subst:sg:gen:f+subst:sg:loc:f'],\n",
       "   'skalić': ['verb:fin:sg:ter:imperf:refl.nonrefl']}),\n",
       " ('pierwszego',\n",
       "  {'pierwsze': ['subst:sg:gen:n2'],\n",
       "   'pierwszy': ['adj:sg:acc:m1.m2:pos+adj:sg:gen:m1.m2.m3.n1.n2:pos+subst:sg:gen:m3']}),\n",
       " ('skali',\n",
       "  {'skala': ['subst:pl:gen:f+subst:sg:dat:f+subst:sg:gen:f+subst:sg:loc:f'],\n",
       "   'skalić': ['verb:fin:sg:ter:imperf:refl.nonrefl']}),\n",
       " ('małżonek',\n",
       "  {'małżonek': ['subst:sg:nom:m1'], 'małżonka': ['subst:pl:gen:f']}),\n",
       " ('małżonka',\n",
       "  {'małżonek': ['subst:sg:acc:m1+subst:sg:gen:m1'],\n",
       "   'małżonka': ['subst:sg:nom:f']}),\n",
       " ('skali',\n",
       "  {'skala': ['subst:pl:gen:f+subst:sg:dat:f+subst:sg:gen:f+subst:sg:loc:f'],\n",
       "   'skalić': ['verb:fin:sg:ter:imperf:refl.nonrefl']}),\n",
       " ('danym',\n",
       "  {'dana': ['subst:pl:dat:f'],\n",
       "   'dane': ['subst:pl:dat:p3'],\n",
       "   'dany': ['adj:pl:dat:m1.m2.m3.f.n1.n2.p1.p2.p3:pos+adj:sg:inst:m1.m2.m3.n1.n2:pos+adj:sg:loc:m1.m2.m3.n1.n2:pos'],\n",
       "   'dać': ['ppas:pl:dat:m1.m2.m3.f.n1.n2.p1.p2.p3:perf:aff+ppas:sg:inst.loc:m1.m2.m3.n1.n2:perf:aff']}),\n",
       " ('płatnicy',\n",
       "  {'płatnica': ['subst:sg:dat:f+subst:sg:gen:f+subst:sg:loc:f'],\n",
       "   'płatnik': ['subst:pl:nom:m1+subst:pl:voc:m1']}),\n",
       " ('następującego',\n",
       "  {'następować': ['pact:sg:acc:m1.m2:imperf:aff:nonrefl+pact:sg:acc:m1.m2:imperf:aff:refl+pact:sg:gen:m1.m2.m3.n1.n2:imperf:aff:nonrefl+pact:sg:gen:m1.m2.m3.n1.n2:imperf:aff:refl'],\n",
       "   'następujący': ['adj:sg:acc:m1.m2:pos+adj:sg:gen:m1.m2.m3.n1.n2:pos']}),\n",
       " ('złożone',\n",
       "  {'złożone': ['subst:pl:acc:p3+subst:pl:nom:p3+subst:pl:voc:p3'],\n",
       "   'złożony': ['adj:pl:acc:m2.m3.f.n1.n2.p2.p3:pos+adj:pl:nom.voc:m2.m3.f.n1.n2.p2.p3:pos+adj:sg:acc:n1.n2:pos+adj:sg:nom.voc:n1.n2:pos'],\n",
       "   'złożyć': ['ppas:pl:nom.acc.voc:m2.m3.f.n1.n2.p2.p3:perf:aff+ppas:sg:nom.acc.voc:n1.n2:perf:aff']}),\n",
       " ('oświadczenie',\n",
       "  {'oświadczenie': ['subst:sg:acc:n2+subst:sg:nom:n2+subst:sg:voc:n2'],\n",
       "   'oświadczyć': ['ger:sg:nom.acc:n2:perf:aff:refl.nonrefl']}),\n",
       " ('listy',\n",
       "  {'list': ['subst:pl:acc:m3+subst:pl:nom:m3+subst:pl:voc:m3'],\n",
       "   'lista': ['subst:pl:acc:f+subst:pl:nom:f+subst:pl:voc:f+subst:sg:gen:f']}),\n",
       " ('przychodu',\n",
       "  {'przychod': ['subst:sg:gen:m3'], 'przychód': ['subst:sg:gen:m3']}),\n",
       " ('rozliczenia',\n",
       "  {'rozliczenie': ['subst:pl:acc:n2+subst:pl:nom:n2+subst:pl:voc:n2+subst:sg:gen:n2'],\n",
       "   'rozliczyć': ['ger:sg:gen:n2:perf:aff:refl.nonrefl']}),\n",
       " ('pity',\n",
       "  {'pita': ['subst:pl:acc:f+subst:pl:nom:f+subst:pl:voc:f+subst:sg:gen:f'],\n",
       "   'pić': ['ppas:sg:acc:m3:imperf:aff+ppas:sg:nom.voc:m1.m2.m3:imperf:aff']}),\n",
       " ('swój',\n",
       "  {'swoić': ['verb:impt:sg:sec:imperf:refl.nonrefl'],\n",
       "   'swój': ['adj:sg:acc:m3:pos+adj:sg:nom.voc:m1.m2.m3:pos']}),\n",
       " ('koszty',\n",
       "  {'koszt': ['subst:pl:acc:m3+subst:pl:nom:m3+subst:pl:voc:m3'],\n",
       "   'koszty': ['subst:pl:acc:p3+subst:pl:nom:p3+subst:pl:voc:p3']}),\n",
       " ('umowa', {'umowa': ['subst:sg:nom:f'], 'umowy': ['adj:sg:nom.voc:f:pos']})]"
      ]
     },
     "execution_count": 66,
     "metadata": {},
     "output_type": "execute_result"
    }
   ],
   "source": [
    "#print(b[0]) #tuple\n",
    "#print(b[0][1]) #dict\n",
    "#print(b) list, len(b)=16\n",
    "#unamb2=[]\n",
    "\n",
    "#for i in amb:\n",
    "#    for j in i[1]:\n",
    "        #print(i[0],j)\n",
    "#        unamb2.append({i[0]:j})\n",
    "\n",
    "amb   "
   ]
  },
  {
   "cell_type": "raw",
   "metadata": {
    "collapsed": false
   },
   "source": [
    "unamb_dict={}\n",
    "\n",
    "for i in amb:\n",
    "    unamb_dict[i[0]]=[]\n",
    "    for j in i[1]:\n",
    "        #print(i[0],j)\n",
    "        unamb_dict[i[0]].append(j)"
   ]
  },
  {
   "cell_type": "code",
   "execution_count": 48,
   "metadata": {
    "collapsed": false,
    "scrolled": true
   },
   "outputs": [],
   "source": [
    "#unamb_dict"
   ]
  },
  {
   "cell_type": "raw",
   "metadata": {
    "collapsed": false
   },
   "source": [
    "document_other=[]\n",
    "for i in unamb_dict:\n",
    "    for j in range(len(unamb_dict[i])):\n",
    "        for h in k2[0]:\n",
    "            if unamb_dict[i][j] ==h:\n",
    "                #print(unamb_dict[i][j])\n",
    "                unamb.append(unamb_dict[i][j])\n",
    "    else:\n",
    "        document_other.append(unamb_dict[i][0]) #when we haven't proper assignment\n",
    "\n",
    "document_final=unamb+document_other\n",
    "document_final\n",
    "k3 = counting(document_final)"
   ]
  },
  {
   "cell_type": "code",
   "execution_count": null,
   "metadata": {
    "collapsed": false
   },
   "outputs": [],
   "source": []
  },
  {
   "cell_type": "code",
   "execution_count": 50,
   "metadata": {
    "collapsed": false
   },
   "outputs": [
    {
     "data": {
      "text/plain": [
       "['podatkowy',\n",
       " 'zmiana',\n",
       " 'podatkowy',\n",
       " 'pracowniczy',\n",
       " 'trakt',\n",
       " 'pracownik',\n",
       " 'zapominać',\n",
       " 'takt',\n",
       " 'wykorzystać',\n",
       " 'przysługiwać',\n",
       " 'wysoki',\n",
       " 'podatkowy',\n",
       " 'taki',\n",
       " 'cel',\n",
       " 'złożyć',\n",
       " 'zatrudniać',\n",
       " 'pracodawca',\n",
       " 'sprawa',\n",
       " 'naliczać',\n",
       " 'podatkowy',\n",
       " 'przynieść',\n",
       " 'korzyść',\n",
       " 'podatkowy',\n",
       " 'początek',\n",
       " 'moment',\n",
       " 'praca',\n",
       " 'trakt',\n",
       " 'podatkowy',\n",
       " 'pracownik',\n",
       " 'spoczywać',\n",
       " 'obowiązek',\n",
       " 'poinformować',\n",
       " 'pracodawca',\n",
       " 'obliczać',\n",
       " 'zaliczka',\n",
       " 'podatek',\n",
       " 'podatkowy',\n",
       " 'uzyskać',\n",
       " 'pracownik',\n",
       " 'poinformować',\n",
       " 'pracodawca',\n",
       " 'podwyższyć',\n",
       " 'r',\n",
       " 'y',\n",
       " 'c',\n",
       " 'z',\n",
       " 'a',\n",
       " 'ł',\n",
       " 't',\n",
       " 'o',\n",
       " 'w',\n",
       " 'związek',\n",
       " 'zamieszkiwać',\n",
       " 'miejscowość',\n",
       " 'położyć',\n",
       " 'zakład',\n",
       " 'praca',\n",
       " 'brak',\n",
       " 'dodatek',\n",
       " 'rozłąka',\n",
       " 'pracownik',\n",
       " 'poinformować',\n",
       " 'pracodawca',\n",
       " 'zaliczka',\n",
       " 'obniżać',\n",
       " 'ponosić',\n",
       " 'związek',\n",
       " 'wydatek',\n",
       " 'imienny',\n",
       " 'bilet',\n",
       " 'okresowy',\n",
       " 'dojazd',\n",
       " 'praca',\n",
       " 'miesięczny',\n",
       " 'roczny',\n",
       " 'pracownik',\n",
       " 'miejscowy',\n",
       " 'złoty',\n",
       " '’',\n",
       " 'złoty',\n",
       " 'jeden',\n",
       " 'złoty',\n",
       " 'pracownik',\n",
       " 'dojeżdżać',\n",
       " 'złoty',\n",
       " '’',\n",
       " 'złoty',\n",
       " 'jeden',\n",
       " '’',\n",
       " 'złoty',\n",
       " 'kwota',\n",
       " 'zmniejszać',\n",
       " 'podatek',\n",
       " 'miesięczny',\n",
       " 'złoty',\n",
       " 'roczny',\n",
       " 'złoty',\n",
       " 'roczny',\n",
       " 'dochód',\n",
       " 'powodować',\n",
       " 'obowiązek',\n",
       " 'zapłata',\n",
       " 'podatek',\n",
       " 'złoty',\n",
       " 'pracodawca',\n",
       " 'stosować',\n",
       " 'autorski',\n",
       " '–',\n",
       " 'kwota',\n",
       " 'warunek',\n",
       " 'z',\n",
       " 'strona',\n",
       " 'pracownik',\n",
       " 'łączny',\n",
       " 'wartość',\n",
       " 'autorski',\n",
       " 'przekraczać',\n",
       " 'kwota',\n",
       " 'stanowić',\n",
       " 'górny',\n",
       " 'granica',\n",
       " 'przedział',\n",
       " 'podatkowy',\n",
       " 'złoty',\n",
       " 'zakład',\n",
       " 'praca',\n",
       " 'obliczać',\n",
       " 'zaliczka',\n",
       " 'stosować',\n",
       " 'uzyskać',\n",
       " 'pracownik',\n",
       " 'warunek',\n",
       " 'przepis',\n",
       " 'płatnik',\n",
       " 'ponosić',\n",
       " 'odpowiedzialność',\n",
       " 'zaniżyć',\n",
       " 'zaliczka',\n",
       " 'podatek',\n",
       " 'związek',\n",
       " 'błąd',\n",
       " 'oświadczenie',\n",
       " 'pracownik',\n",
       " 'odpowiedzialność',\n",
       " 'obciążać',\n",
       " 'stąd',\n",
       " 'zwrócić',\n",
       " 'uwaga',\n",
       " 'płatnik',\n",
       " 'pracodawca',\n",
       " 'prawidłowy',\n",
       " 'oświadczenie',\n",
       " 'zaliczka',\n",
       " 'niski',\n",
       " 'podatnik',\n",
       " 'płatnik',\n",
       " 'rok',\n",
       " 'zamierzać',\n",
       " 'opodatkować',\n",
       " 'dochód',\n",
       " 'małżonek',\n",
       " 'osoba',\n",
       " 'wychowywać',\n",
       " 'dziecko',\n",
       " 'korzystać',\n",
       " 'preferencyjny',\n",
       " 'wartość',\n",
       " 'zaliczka',\n",
       " 'podatek',\n",
       " 'stosować',\n",
       " 'podwójny',\n",
       " 'kwota',\n",
       " 'wolny',\n",
       " 'podatek',\n",
       " 'taki',\n",
       " 'przypadek',\n",
       " 'dochód',\n",
       " 'podatnik',\n",
       " 'przekroczyć',\n",
       " 'górny',\n",
       " 'granica',\n",
       " 'przedział',\n",
       " 'odpowiednio',\n",
       " 'dziecko',\n",
       " 'uzyskiwać',\n",
       " 'dochód',\n",
       " 'wyjątek',\n",
       " 'renta',\n",
       " 'rodzinny',\n",
       " 'zaliczka',\n",
       " 'wynosić',\n",
       " 'dochód',\n",
       " 'uzyskać',\n",
       " 'miesiąc',\n",
       " 'dodatkowo',\n",
       " 'pomniejszać',\n",
       " 'miesiąc',\n",
       " 'kwota',\n",
       " 'stanowić',\n",
       " 'kwota',\n",
       " 'zmniejszać',\n",
       " 'podatek',\n",
       " 'przedział',\n",
       " 'podatkowy',\n",
       " 'dochód',\n",
       " 'podatnik',\n",
       " 'przekroczyć',\n",
       " 'górny',\n",
       " 'granica',\n",
       " 'przedział',\n",
       " 'odpowiednio',\n",
       " 'dziecko',\n",
       " 'uzyskiwać',\n",
       " 'dochód',\n",
       " 'wyjątek',\n",
       " 'renta',\n",
       " 'rodzinny',\n",
       " 'dochód',\n",
       " 'mieścić',\n",
       " 'niski',\n",
       " 'przedział',\n",
       " 'zaliczka',\n",
       " 'miesiąc',\n",
       " 'podatkowy',\n",
       " 'wynosić',\n",
       " 'dochód',\n",
       " 'uzyskać',\n",
       " 'miesiąc',\n",
       " 'pobierać',\n",
       " 'zaliczka',\n",
       " 'powyższy',\n",
       " 'wysokość',\n",
       " 'począć',\n",
       " 'miesiąc',\n",
       " 'miesiąc',\n",
       " 'zostać',\n",
       " 'podatnik',\n",
       " 'p',\n",
       " 'i',\n",
       " 'o',\n",
       " 't',\n",
       " 'r',\n",
       " 's',\n",
       " 'z',\n",
       " 'u',\n",
       " 'l',\n",
       " 'c',\n",
       " 'z',\n",
       " 'e',\n",
       " 'w',\n",
       " 's',\n",
       " 'k',\n",
       " 'i',\n",
       " 'pita',\n",
       " 'plac',\n",
       " 'powrót',\n",
       " 'a',\n",
       " 'k',\n",
       " 't',\n",
       " 'u',\n",
       " 'a',\n",
       " 'l',\n",
       " 'n',\n",
       " 'o',\n",
       " 'ś',\n",
       " 'c',\n",
       " 'i',\n",
       " 'k',\n",
       " 'o',\n",
       " 's',\n",
       " 'z',\n",
       " 't',\n",
       " 'y',\n",
       " 'uzyskać',\n",
       " 'pobrać',\n",
       " 'darmowy',\n",
       " 'program',\n",
       " 'pita',\n",
       " 'e',\n",
       " 'pobrać',\n",
       " 'uruchomić',\n",
       " 'online',\n",
       " 'komentarz',\n",
       " 'brak',\n",
       " 'komentarz',\n",
       " 'dodać',\n",
       " 'komentarz',\n",
       " 'autor',\n",
       " 'temat',\n",
       " 'treść',\n",
       " 'komentarz',\n",
       " 'obniżyć',\n",
       " 'podatek',\n",
       " 'rok',\n",
       " 'pita',\n",
       " 'aktualny',\n",
       " 'ulga',\n",
       " 'termin',\n",
       " 'e',\n",
       " 'porada',\n",
       " 'darmo',\n",
       " 'przejść',\n",
       " 'darmowy',\n",
       " 'baza',\n",
       " 'e',\n",
       " 'porada',\n",
       " 'dojazd',\n",
       " 'praca',\n",
       " 'uzysk',\n",
       " 'dwa',\n",
       " 'spółka',\n",
       " 'dzieło',\n",
       " 'podatek',\n",
       " 'dochodowy',\n",
       " 'aktualności',\n",
       " 'koszt',\n",
       " 'koszty']"
      ]
     },
     "execution_count": 50,
     "metadata": {},
     "output_type": "execute_result"
    }
   ],
   "source": [
    "stemmed_arts[2]"
   ]
  },
  {
   "cell_type": "code",
   "execution_count": 51,
   "metadata": {
    "collapsed": false
   },
   "outputs": [],
   "source": [
    "docs =[]\n",
    "for a in stemmed_arts:\n",
    "    b = \" \".join(a)\n",
    "    docs.append(b)\n"
   ]
  },
  {
   "cell_type": "code",
   "execution_count": 63,
   "metadata": {
    "collapsed": false
   },
   "outputs": [
    {
     "name": "stdout",
     "output_type": "stream",
     "text": [
      "True\n"
     ]
    }
   ],
   "source": [
    "print(\"pit\" not in docs)\n"
   ]
  },
  {
   "cell_type": "code",
   "execution_count": 52,
   "metadata": {
    "collapsed": false
   },
   "outputs": [
    {
     "name": "stderr",
     "output_type": "stream",
     "text": [
      "/home/kodolamacz/anaconda3/lib/python3.6/site-packages/sklearn/feature_extraction/text.py:1059: FutureWarning: Conversion of the second argument of issubdtype from `float` to `np.floating` is deprecated. In future, it will be treated as `np.float64 == np.dtype(float).type`.\n",
      "  if hasattr(X, 'dtype') and np.issubdtype(X.dtype, np.float):\n"
     ]
    }
   ],
   "source": [
    "from sklearn.feature_extraction.text import TfidfVectorizer, CountVectorizer\n",
    "\n",
    "no_features = 1000\n",
    "\n",
    "#tfidf\n",
    "tfidf_vectorizer = TfidfVectorizer(\n",
    "    max_df=0.95, min_df=2, max_features=no_features, \n",
    "    stop_words=stopwords)\n",
    "tfidf = tfidf_vectorizer.fit_transform(docs)\n",
    "tfidf_feature_names = tfidf_vectorizer.get_feature_names()\n",
    "\n",
    "#lda\n",
    "tf_vectorizer = CountVectorizer(\n",
    "    max_df=0.95, min_df=2, max_features=no_features, \n",
    "    stop_words=stopwords)\n",
    "tf = tf_vectorizer.fit_transform(docs)\n",
    "tf_feature_names = tf_vectorizer.get_feature_names()\n"
   ]
  },
  {
   "cell_type": "code",
   "execution_count": 53,
   "metadata": {
    "collapsed": true
   },
   "outputs": [],
   "source": [
    "from sklearn.decomposition import NMF, LatentDirichletAllocation\n",
    "\n",
    "no_topics = 10\n",
    "\n",
    "# Run NMF\n",
    "nmf = NMF(n_components=no_topics, \n",
    "          random_state=1, alpha=.1, l1_ratio=.5, \n",
    "          init='nndsvd').fit(tfidf)\n",
    "\n",
    "# Run LDA\n",
    "lda = LatentDirichletAllocation(\n",
    "    n_topics=no_topics, max_iter=5, learning_method='online',\n",
    "    learning_offset=50.,random_state=0).fit(tf)"
   ]
  },
  {
   "cell_type": "code",
   "execution_count": null,
   "metadata": {
    "collapsed": true
   },
   "outputs": [],
   "source": []
  },
  {
   "cell_type": "code",
   "execution_count": 54,
   "metadata": {
    "collapsed": false
   },
   "outputs": [
    {
     "name": "stdout",
     "output_type": "stream",
     "text": [
      "Topic 0:\n",
      "określony dany przychod składanie małżonkowie zatrudniony łącznie spełnienie bądź samotnie\n",
      "Topic 1:\n",
      "obowiązujący umowy zawarcie stosowany zastosowanie przychod łącznie pierwszy dany grecki\n",
      "Topic 2:\n",
      "pierwszy małżonka płatnica określony dany łącznie grecki list małżonkowie następujący\n",
      "Topic 3:\n",
      "złożone następujący płatnica list małżonka rozliczenie pierwszy określony swój dany\n",
      "Topic 4:\n",
      "zawarcie łącznie płatnica dany grecki list małżonka małżonkowie następujący obowiązujący\n",
      "Topic 5:\n",
      "łącznie płatnica dany grecki list małżonka małżonkowie następujący obowiązujący określony\n",
      "Topic 6:\n",
      "przychod zastosowanie grecki umówić pierwsze stosowany obowiązujący umowy zawarcie skalić\n",
      "Topic 7:\n",
      "łącznie płatnica dany grecki list małżonka małżonkowie następujący obowiązujący określony\n",
      "Topic 8:\n",
      "umowy zawarcie łącznie przychod dany grecki list małżonka małżonkowie następujący\n",
      "Topic 9:\n",
      "przychod łącznie płatnica dany grecki list małżonka małżonkowie następujący obowiązujący\n",
      "Topic 0:\n",
      "przychod określony zawarcie umowy obowiązujący stosowany dany zastosowanie grecki umówić\n",
      "Topic 1:\n",
      "zawarcie przychod stosowany umówić grecki zastosowanie obowiązujący umowy skalić składanie\n",
      "Topic 2:\n",
      "przychod określony spełnienie skalić dany obowiązujący pierwsze umówić następujący zastosowanie\n",
      "Topic 3:\n",
      "określony grecki bądź rozliczenie pierwszy składanie umówić samotnie łącznie zawarcie\n",
      "Topic 4:\n",
      "składanie grecki list następujący płatnica obowiązujący bądź swój złożone rozliczenie\n",
      "Topic 5:\n",
      "zawarcie umowy obowiązujący swój łącznie stosowany małżonkowie następujący bądź pierwszy\n",
      "Topic 6:\n",
      "małżonka dany spełnienie samotnie obowiązujący pierwsze zastosowanie następujący swój umowy\n",
      "Topic 7:\n",
      "małżonkowie bądź swój złożone dany stosowany małżonka umowy zastosowanie płatnica\n",
      "Topic 8:\n",
      "przychod umowy zastosowanie zawarcie umówić skalić obowiązujący zatrudniony składanie spełnienie\n",
      "Topic 9:\n",
      "umowy złożone pierwsze list małżonkowie rozliczenie obowiązujący samotnie małżonka grecki\n"
     ]
    }
   ],
   "source": [
    "def display_topics(model, feature_names, no_top_words):\n",
    "    for topic_idx, topic in enumerate(model.components_):\n",
    "        print (\"Topic %d:\" % (topic_idx))\n",
    "        print (\" \".join([feature_names[i]\n",
    "                        for i in topic.argsort()[:-no_top_words - 1:-1]]))\n",
    "\n",
    "no_top_words = 10\n",
    "display_topics(nmf, tfidf_feature_names, no_top_words)\n",
    "display_topics(lda, tf_feature_names, no_top_words)"
   ]
  },
  {
   "cell_type": "code",
   "execution_count": 451,
   "metadata": {
    "collapsed": false
   },
   "outputs": [
    {
     "name": "stdout",
     "output_type": "stream",
     "text": [
      "doc: 0 topic: 0\n",
      "\n",
      "http://www.pit.pl/pit-2017/\n",
      "doc: 1 topic: 0\n",
      "\n",
      "http://www.pit.pl/2005/\n",
      "doc: 2 topic: 0\n",
      "\n",
      "http://www.pit.pl/roczne2003/\n",
      "doc: 3 topic: 0\n",
      "\n",
      "http://www.pit.pl/rozliczenia-roczne-pit-20132014--deklaracje-pit--ulgi-podatkowe-i-odliczenia-20132014--pitpl-12831/\n",
      "doc: 4 topic: 0\n",
      "\n",
      "http://www.pit.pl/transakcje-walutowe--inwestycje--podatki-w-praktyce-13694/\n",
      "doc: 5 topic: 0\n",
      "\n",
      "http://www.pit.pl/pity_2014_w_2015_za_rok_2015_pity_roczne_2015_rozliczenie_pit_2014_pit_20014/\n",
      "doc: 6 topic: 0\n",
      "\n",
      "http://www.pit.pl/rodzina--odpowiedzialnosc-osobista--podatki-w-praktyce-13691/\n",
      "doc: 7 topic: 0\n",
      "\n",
      "http://www.pit.pl/pity-roczne/pity-2015-w-2016-za-rok-2015--pity-roczne-2015-rozliczenie-pit-2015--pity-ulgi-odliczenia-14934/\n",
      "doc: 8 topic: 0\n",
      "\n",
      "http://www.pit.pl/sprzedaje-za-granica--podatki-a-handel-w-internecie-11353/\n",
      "doc: 9 topic: 0\n",
      "\n",
      "http://www.pit.pl/koszty-przesylki--podatki-w-internecie-10257/\n",
      "doc: 10 topic: 0\n",
      "\n",
      "http://www.pit.pl/zbycie-praw-autorskich-w-sieci--prywatnie--podatki-a-handel-w-internecie-11347/\n",
      "doc: 11 topic: 0\n",
      "\n",
      "http://www.pit.pl/aukcja-dla-konsumenta--podatki-w-internecie-11348/\n",
      "doc: 12 topic: 0\n",
      "\n",
      "http://www.pit.pl/jestes-kupujacym--na-aukcji-internetowej--jak-legalnie-przeprowadzic-taka-operacje-11927/\n",
      "doc: 13 topic: 0\n",
      "\n",
      "http://www.pit.pl/ehandel-a-podatki--jak-legalnie-kupowac-i-sprzedawac-w-sieci--aukcje-i-podatki/ile-podatku-zaplace-10238/\n",
      "doc: 14 topic: 0\n",
      "\n",
      "http://www.pit.pl/nie-place-pcc--podatki-w-internecie-10235/\n",
      "doc: 15 topic: 0\n",
      "\n",
      "http://www.pit.pl/ehandel-a-podatki--jak-legalnie-kupowac-i-sprzedawac-w-sieci--aukcje-i-podatki/skladam-deklaracje-pcc3--podatki-a-handel-w-internecie/sprzedaje-prywatnie--podatki-a-handel-w-internecie-10219/\n",
      "doc: 16 topic: 0\n",
      "\n",
      "http://www.pit.pl/informacja-o-cookies--serwisy-pitpl-i-vatpl--proste-podatki-12217/\n",
      "doc: 17 topic: 0\n",
      "\n",
      "http://www.pit.pl/pit-2018/\n",
      "doc: 18 topic: 0\n",
      "\n",
      "http://www.pit.pl/podatek-od-czynnosci-cywilnoprawnych-pcc--podatki-w-internecie-10236/\n",
      "doc: 19 topic: 0\n",
      "\n",
      "http://www.pit.pl/informacja-dla-ubezpieczonych-o-naliczonych-skladkach-zus-za-2017-r--gazeta-podatkowa-17616/\n",
      "doc: 20 topic: 0\n",
      "\n",
      "http://www.pit.pl/aktualnosci-podatkowe/2507-ulga-internetowa-za-2013-rok-jak-liczyc-dwa-lata-korzystania-z-internetu-12873/\n",
      "doc: 21 topic: 0\n",
      "\n",
      "http://www.pit.pl/aktualnosci-podatkowe/2013/archiwum-2013-viii/0108-czy-skladajac-pit-w-2014-skorzystam-z-ulgi-internetowej-12908/\n",
      "doc: 22 topic: 0\n",
      "\n",
      "http://www.pit.pl/1710-czy-dzieci-moga-dorobic-wiecej-w-2017-roku-ulga-prorodzinna-17174/\n",
      "doc: 23 topic: 0\n",
      "\n",
      "http://www.pit.pl/deklaracje-zus--formularze-ubezpieczeniowe-13816/\n",
      "doc: 24 topic: 0\n",
      "\n",
      "http://www.pit.pl/bledy-w-pit11/\n",
      "doc: 25 topic: 0\n",
      "\n",
      "http://www.pit.pl/ksiazka-przychodow-i-rozchodow-zamkniecie-roku-w-firmie-10784/\n",
      "doc: 26 topic: 0\n",
      "\n",
      "http://www.pit.pl/wyjasnienia-i-broszury-ministra-finansow--pity-roczne-2014-13891/\n",
      "doc: 27 topic: 0\n",
      "\n",
      "http://www.pit.pl/ksiazka-przychodow-i-rozchodow-zamkniecie-roku-w-firmie-12828/\n",
      "doc: 28 topic: 0\n",
      "\n",
      "http://www.pit.pl/pit-37-online/\n",
      "doc: 29 topic: 0\n",
      "\n",
      "http://www.pit.pl/ksiazka-przychodow-i-rozchodow-zamkniecie-roku-w-firmie-14931/\n",
      "doc: 30 topic: 0\n",
      "\n",
      "http://www.pit.pl/pit-28/\n",
      "doc: 31 topic: 0\n",
      "\n",
      "http://www.pit.pl/pit-39/\n",
      "doc: 32 topic: 0\n",
      "\n",
      "http://www.pit.pl/podatki-w-praktyce--proste-podatki-dla-ciebie--praktyczne-i-bezplatne-poradniki-podatkowe/lasy--podatki-w-praktyce-10211/\n",
      "doc: 33 topic: 0\n",
      "\n",
      "http://www.pit.pl/pit-38/\n",
      "doc: 34 topic: 0\n",
      "\n",
      "http://www.pit.pl/program-pit/\n",
      "doc: 35 topic: 0\n",
      "\n",
      "http://www.pit.pl/urzad-skarbowy-wzywa--jak-zalegalizowac-ehandel-11362/\n",
      "doc: 36 topic: 0\n",
      "\n",
      "http://www.pit.pl/program-pity-roczne-2015--w-2016--darmowy-program-do-pitow--twoj-pit-za-2015-14927/\n",
      "doc: 37 topic: 0\n",
      "\n",
      "http://www.pit.pl/ehandel-a-podatki--jak-legalnie-kupowac-i-sprzedawac-w-sieci--aukcje-i-podatki/umowy-do-1000-zl--podatki-w-internecie-10237/\n",
      "doc: 38 topic: 0\n",
      "\n",
      "http://www.pit.pl/archiwum-2017-xii-17388/\n",
      "doc: 39 topic: 0\n",
      "\n",
      "http://www.pit.pl/aktualnosci-podatkowe/2013/archiwum-2013-vii-12703/\n",
      "doc: 40 topic: 0\n",
      "\n",
      "http://www.pit.pl/czy-warto-rejestrowac-firme--jezeli-handlujesz-w-sieci-11363/\n",
      "doc: 41 topic: 0\n",
      "\n",
      "http://www.pit.pl/kiedy-potrzeba-legalizacji--jak-zalegalizowac-ehandel-11356/\n"
     ]
    }
   ],
   "source": [
    "doc_topic = lda.transform(tf)\n",
    "for n in range(doc_topic.shape[0]):\n",
    "    topic_most_pr = doc_topic[n].argmax()\n",
    "    print(\"doc: {} topic: {}\\n\".format(n,topic_most_pr))\n",
    "    print(scraping.iloc[n,1])\n"
   ]
  },
  {
   "cell_type": "code",
   "execution_count": 97,
   "metadata": {
    "collapsed": false
   },
   "outputs": [
    {
     "ename": "NameError",
     "evalue": "name 'dist' is not defined",
     "output_type": "error",
     "traceback": [
      "\u001b[0;31m---------------------------------------------------------------------------\u001b[0m",
      "\u001b[0;31mNameError\u001b[0m                                 Traceback (most recent call last)",
      "\u001b[0;32m<ipython-input-97-e6d2b9f688b9>\u001b[0m in \u001b[0;36m<module>\u001b[0;34m()\u001b[0m\n\u001b[1;32m      1\u001b[0m \u001b[0;32mfrom\u001b[0m \u001b[0mscipy\u001b[0m\u001b[0;34m.\u001b[0m\u001b[0mcluster\u001b[0m\u001b[0;34m.\u001b[0m\u001b[0mhierarchy\u001b[0m \u001b[0;32mimport\u001b[0m \u001b[0mward\u001b[0m\u001b[0;34m,\u001b[0m \u001b[0mdendrogram\u001b[0m\u001b[0;34m\u001b[0m\u001b[0m\n\u001b[1;32m      2\u001b[0m \u001b[0;34m\u001b[0m\u001b[0m\n\u001b[0;32m----> 3\u001b[0;31m \u001b[0mlinkage_matrix\u001b[0m \u001b[0;34m=\u001b[0m \u001b[0mward\u001b[0m\u001b[0;34m(\u001b[0m\u001b[0mdist\u001b[0m\u001b[0;34m)\u001b[0m \u001b[0;31m#define the linkage_matrix using ward clustering pre-computed distances\u001b[0m\u001b[0;34m\u001b[0m\u001b[0m\n\u001b[0m\u001b[1;32m      4\u001b[0m \u001b[0;34m\u001b[0m\u001b[0m\n\u001b[1;32m      5\u001b[0m \u001b[0mfig\u001b[0m\u001b[0;34m,\u001b[0m \u001b[0max\u001b[0m \u001b[0;34m=\u001b[0m \u001b[0mplt\u001b[0m\u001b[0;34m.\u001b[0m\u001b[0msubplots\u001b[0m\u001b[0;34m(\u001b[0m\u001b[0mfigsize\u001b[0m\u001b[0;34m=\u001b[0m\u001b[0;34m(\u001b[0m\u001b[0;36m15\u001b[0m\u001b[0;34m,\u001b[0m \u001b[0;36m20\u001b[0m\u001b[0;34m)\u001b[0m\u001b[0;34m)\u001b[0m \u001b[0;31m# set size\u001b[0m\u001b[0;34m\u001b[0m\u001b[0m\n",
      "\u001b[0;31mNameError\u001b[0m: name 'dist' is not defined"
     ]
    }
   ],
   "source": [
    "from scipy.cluster.hierarchy import ward, dendrogram\n",
    "\n",
    "linkage_matrix = ward(dist) #define the linkage_matrix using ward clustering pre-computed distances\n",
    "\n",
    "fig, ax = plt.subplots(figsize=(15, 20)) # set size\n",
    "ax = dendrogram(linkage_matrix, orientation=\"right\", labels=titles);\n",
    "\n",
    "plt.tick_params(\\\n",
    "    axis= 'x',          # changes apply to the x-axis\n",
    "    which='both',      # both major and minor ticks are affected\n",
    "    bottom='off',      # ticks along the bottom edge are off\n",
    "    top='off',         # ticks along the top edge are off\n",
    "    labelbottom='off')\n",
    "\n",
    "plt.tight_layout() #show plot with tight layout\n",
    "\n",
    "#uncomment below to save figure\n",
    "#plt.savefig('ward_clusters.png', dpi=200) #save figure as ward_clusters"
   ]
  },
  {
   "cell_type": "code",
   "execution_count": null,
   "metadata": {
    "collapsed": true
   },
   "outputs": [],
   "source": []
  },
  {
   "cell_type": "code",
   "execution_count": null,
   "metadata": {
    "collapsed": true
   },
   "outputs": [],
   "source": []
  }
 ],
 "metadata": {
  "kernelspec": {
   "display_name": "Python 3",
   "language": "python",
   "name": "python3"
  },
  "language_info": {
   "codemirror_mode": {
    "name": "ipython",
    "version": 3
   },
   "file_extension": ".py",
   "mimetype": "text/x-python",
   "name": "python",
   "nbconvert_exporter": "python",
   "pygments_lexer": "ipython3",
   "version": "3.6.0"
  }
 },
 "nbformat": 4,
 "nbformat_minor": 2
}
